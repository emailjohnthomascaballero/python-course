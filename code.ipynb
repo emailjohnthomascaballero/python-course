{
 "cells": [
  {
   "cell_type": "code",
   "execution_count": 17,
   "metadata": {},
   "outputs": [
    {
     "data": {
      "text/plain": [
       "False"
      ]
     },
     "execution_count": 17,
     "metadata": {},
     "output_type": "execute_result"
    }
   ],
   "source": [
    "#DAY 1\n",
    "#my_name = 'John'\n",
    "#my_average = '75'\n",
    "#is_noob = True\n",
    "\n",
    "#print(\"Hello World!\")\n",
    "#print(my_name)\n",
    "#print(f\"Hi, my name is {my_name}, my grade is {my_average}\")\n",
    "#print('Hello my name is {1}, my grade is {0}'.format(my_name, my_average))\n",
    "#print(f'are you still noob? {is_noob}')\n",
    "\n",
    "\n",
    "#DAY 2\n",
    "var_num_even = 64\n",
    "var_num_odd = 19\n",
    "\n",
    "var_num_even % 2 #0\n",
    "var_num_odd % 2 #1\n",
    "\n",
    "def check_if_num_iseven(num):\n",
    "    return not num % 2 #truthy\n",
    "\n",
    "check_if_num_iseven(99)"
   ]
  },
  {
   "cell_type": "code",
   "execution_count": null,
   "metadata": {},
   "outputs": [],
   "source": [
    "input_string = 'world'\n",
    "\n",
    "input_string[0:5:1]"
   ]
  },
  {
   "attachments": {},
   "cell_type": "markdown",
   "metadata": {},
   "source": [
    "**Before You Begin:**\n",
    "- [ ] Understand your motivation for learning Python (e.g., web development, data analysis, automation).\n",
    "- [ ] Install Python on your computer (latest version is recommended).\n",
    "\n",
    "**Basic Concepts:**\n",
    "- [ ] Learn about Python's syntax, its readability, and importance of indentation.\n",
    "- [ ] Understand variables and data types (integers, strings, floats, booleans).\n",
    "- [ ] Familiarize yourself with basic arithmetic and string operations.\n",
    "\n",
    "**Control Flow:**\n",
    "- [ ] Master if statements, else clauses, and elif statements for decision-making.\n",
    "- [ ] Learn to use for and while loops for repetition.\n",
    "\n",
    "**Functions and Modules:**\n",
    "- [ ] Define and call functions to organize your code.\n",
    "- [ ] Explore Python's built-in functions and understand the concept of modules.\n",
    "\n",
    "**Data Structures:**\n",
    "- [ ] Understand lists, tuples, dictionaries, and sets.\n",
    "- [ ] Learn about indexing, slicing, and common methods for each data structure.\n",
    "\n",
    "**File Handling:**\n",
    "- [ ] Learn how to read from and write to files.\n",
    "- [ ] Understand file modes and use context managers for safe file operations.\n",
    "\n",
    "**Error Handling:**\n",
    "- [ ] Learn about exceptions and how to handle errors using try-except blocks.\n",
    "\n",
    "**Object-Oriented Programming (OOP):**\n",
    "- [ ] Understand classes, objects, methods, and attributes.\n",
    "- [ ] Learn about inheritance and encapsulation.\n",
    "\n",
    "**Intermediate Topics:**\n",
    "- [ ] Explore topics like decorators, generators, and list comprehensions.\n",
    "\n",
    "**Standard Library and External Libraries:**\n",
    "- [ ] Explore Python's built-in libraries for common tasks (e.g., datetime, math).\n",
    "- [ ] Learn about external libraries like NumPy, pandas, and Matplotlib.\n",
    "\n",
    "**Projects and Practice:**\n",
    "- [ ] Start with small projects to apply what you've learned.\n",
    "- [ ] Gradually work on more complex projects as you gain confidence.\n",
    "\n",
    "**Algorithmic Problem Solving:**\n",
    "- [ ] Practice solving coding challenges on platforms like LeetCode or HackerRank.\n",
    "\n",
    "**Web Development (Optional):**\n",
    "- [ ] Explore web development using frameworks like Flask or Django.\n",
    "\n",
    "**Data Analysis and Visualization (Optional):**\n",
    "- [ ] Learn data manipulation and visualization using libraries like pandas and Matplotlib.\n",
    "\n",
    "**Advanced Topics (As You Progress):**\n",
    "- [ ] Dive into advanced concepts like multithreading, multiprocessing, and metaclasses.\n",
    "\n",
    "**Stay Updated and Collaborate:**\n",
    "- [ ] Keep up with the latest Python features and trends.\n",
    "- [ ] Join online coding communities, forums, and attend meetups to learn from others.\n",
    "\n",
    "**Teach and Share:**\n",
    "- [ ] Teach others what you've learned, which reinforces your understanding.\n",
    "\n",
    "**Practice, Practice, Practice:**\n",
    "- [ ] Consistent practice is key. Keep coding regularly to reinforce your skills.\n"
   ]
  },
  {
   "cell_type": "markdown",
   "metadata": {},
   "source": []
  }
 ],
 "metadata": {
  "kernelspec": {
   "display_name": "Python 3",
   "language": "python",
   "name": "python3"
  },
  "language_info": {
   "codemirror_mode": {
    "name": "ipython",
    "version": 3
   },
   "file_extension": ".py",
   "mimetype": "text/x-python",
   "name": "python",
   "nbconvert_exporter": "python",
   "pygments_lexer": "ipython3",
   "version": "3.11.4"
  },
  "orig_nbformat": 4
 },
 "nbformat": 4,
 "nbformat_minor": 2
}
