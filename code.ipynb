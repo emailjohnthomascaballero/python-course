{
 "cells": [
  {
   "cell_type": "code",
   "execution_count": 6,
   "metadata": {},
   "outputs": [
    {
     "name": "stdout",
     "output_type": "stream",
     "text": [
      "Hello World!\n",
      "John\n",
      "Hi, my name is John, my grade is 75\n",
      "Hello my name is 75, my grade is John\n"
     ]
    }
   ],
   "source": [
    "my_name = 'John'\n",
    "my_average = '75'\n",
    "\n",
    "print(\"Hello World!\")\n",
    "print(my_name)\n",
    "print(f\"Hi, my name is {my_name}, my grade is {my_average}\")\n",
    "print('Hello my name is {1}, my grade is {0}'.format(my_name, my_average))"
   ]
  },
  {
   "cell_type": "markdown",
   "metadata": {},
   "source": []
  }
 ],
 "metadata": {
  "kernelspec": {
   "display_name": "Python 3",
   "language": "python",
   "name": "python3"
  },
  "language_info": {
   "codemirror_mode": {
    "name": "ipython",
    "version": 3
   },
   "file_extension": ".py",
   "mimetype": "text/x-python",
   "name": "python",
   "nbconvert_exporter": "python",
   "pygments_lexer": "ipython3",
   "version": "3.11.4"
  },
  "orig_nbformat": 4
 },
 "nbformat": 4,
 "nbformat_minor": 2
}
