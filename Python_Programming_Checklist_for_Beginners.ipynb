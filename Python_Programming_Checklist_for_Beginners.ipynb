{
 "cells": [
  {
   "attachments": {},
   "cell_type": "markdown",
   "metadata": {},
   "source": [
    "# Python Programming Checklist for Beginners\n",
    "\n",
    "  ## Basic\n",
    "\n",
    "  ### Understand basic data types: ```int, float, str, list, tuple, dict, bool.```\n",
    "\n",
    "  - list -  a list is a versatile and commonly used data structure that can hold a collection of items. Lists are mutable, meaning you can modify them after creation. Each item in a list is called an element and is identified by its position or index within the list.\n"
   ]
  },
  {
   "attachments": {},
   "cell_type": "markdown",
   "metadata": {},
   "source": [
    "### List Creation\n",
    "You can create a list by enclosing comma-separated elements within square brackets [ ]."
   ]
  },
  {
   "cell_type": "code",
   "execution_count": null,
   "metadata": {},
   "outputs": [],
   "source": [
    "# Creating a list\n",
    "fruits = ['banana', 'coconut', 'apple', 'avocado']"
   ]
  },
  {
   "attachments": {},
   "cell_type": "markdown",
   "metadata": {},
   "source": [
    "### Accessing Elements\n",
    "You can access elements in a list using their index. Remember that indices start from 0."
   ]
  },
  {
   "cell_type": "code",
   "execution_count": null,
   "metadata": {},
   "outputs": [],
   "source": [
    "print(fruits[0])\n",
    "print(fruits[1], fruits[3])"
   ]
  },
  {
   "attachments": {},
   "cell_type": "markdown",
   "metadata": {},
   "source": [
    "### List Operations\n",
    "* Appending: Adding elements to the end of the list."
   ]
  },
  {
   "cell_type": "code",
   "execution_count": null,
   "metadata": {},
   "outputs": [],
   "source": [
    "fruits = ['banana', 'coconut', 'apple', 'avocado']\n",
    "\n",
    "fruits.append('lanzones')\n",
    "\n",
    "print(fruits)"
   ]
  },
  {
   "attachments": {},
   "cell_type": "markdown",
   "metadata": {},
   "source": [
    "* Inserting: Adding an element at a specific index."
   ]
  },
  {
   "cell_type": "code",
   "execution_count": null,
   "metadata": {},
   "outputs": [],
   "source": [
    "fruits = ['banana', 'coconut', 'apple', 'avocado']\n",
    "\n",
    "fruits.insert(2, 'rambutan') # Insert 'rambutan in index 2\n",
    "\n",
    "print(fruits)"
   ]
  },
  {
   "attachments": {},
   "cell_type": "markdown",
   "metadata": {},
   "source": [
    "- Removing: Removing elements from the list."
   ]
  },
  {
   "cell_type": "code",
   "execution_count": null,
   "metadata": {},
   "outputs": [],
   "source": [
    "fruits = ['banana', 'coconut', 'apple', 'avocado']\n",
    "\n",
    "fruits.remove('coconut')\n",
    "\n",
    "print(fruits)"
   ]
  },
  {
   "attachments": {},
   "cell_type": "markdown",
   "metadata": {},
   "source": [
    "- Popping: Removing and returning an element at a specific index."
   ]
  },
  {
   "cell_type": "code",
   "execution_count": null,
   "metadata": {},
   "outputs": [],
   "source": [
    "fruits = ['banana', 'coconut', 'apple', 'avocado']\n",
    "\n",
    "\n",
    "popped_fruit = fruits.pop(1) # remove and return element at index 1\n",
    "\n",
    "print(fruits)\n",
    "print(popped_fruit)"
   ]
  },
  {
   "attachments": {},
   "cell_type": "markdown",
   "metadata": {},
   "source": [
    "* Index: Finding the index of a specific element."
   ]
  },
  {
   "cell_type": "code",
   "execution_count": null,
   "metadata": {},
   "outputs": [],
   "source": [
    "fruits = ['banana', 'coconut', 'apple', 'avocado']\n",
    "\n",
    "index_of_avocado = fruits.index('avocado')\n",
    "\n",
    "print(index_of_avocado)"
   ]
  },
  {
   "attachments": {},
   "cell_type": "markdown",
   "metadata": {},
   "source": [
    "* Length: Finding the length of the list."
   ]
  },
  {
   "cell_type": "code",
   "execution_count": null,
   "metadata": {},
   "outputs": [],
   "source": [
    "fruits = ['banana', 'coconut', 'apple', 'avocado']\n",
    "\n",
    "num_fruits = len(fruits)\n",
    "\n",
    "print(num_fruits)"
   ]
  },
  {
   "attachments": {},
   "cell_type": "markdown",
   "metadata": {},
   "source": [
    "* Sorting: Sorting the elements in the list."
   ]
  },
  {
   "cell_type": "code",
   "execution_count": null,
   "metadata": {},
   "outputs": [],
   "source": [
    "fruits = ['banana', 'coconut', 'apple', 'avocado']\n",
    "\n",
    "sorted_fruits = sorted(fruits)\n",
    "\n",
    "print(sorted_fruits)"
   ]
  },
  {
   "attachments": {},
   "cell_type": "markdown",
   "metadata": {},
   "source": [
    "### List Slicing\n",
    "You can extract a portion of a list using slicing."
   ]
  },
  {
   "cell_type": "code",
   "execution_count": null,
   "metadata": {},
   "outputs": [],
   "source": [
    "# So, let's break down my_list[1:4]:\n",
    "\n",
    "# 1 is where you start cutting. It means you start from the second number (because counting starts from 0).\n",
    "# 4 is where you stop cutting. But you don't include this number itself. So, you stop right before the fourth number.\n",
    "\n",
    "my_list = [1, 2, 3, 4, 5]\n",
    "\n",
    "subset = my_list[1:4] # So, when you slice the list from the second number (2) up to, but not including, the fourth number, you get [2, 3, 4].\n",
    "\n",
    "print(subset)"
   ]
  },
  {
   "attachments": {},
   "cell_type": "markdown",
   "metadata": {},
   "source": [
    "The syntax for slicing is start:end:step, where:\n",
    "- start is the index of the first element you want to include in the slice.\n",
    "- end is the index of the first element that you don't want to include in the slice.\n",
    "- step is the number of positions to skip between elements."
   ]
  },
  {
   "cell_type": "code",
   "execution_count": null,
   "metadata": {},
   "outputs": [],
   "source": [
    "numbers = [1, 2, 3, 4, 5, 6, 7, 8 , 9, 10]\n",
    "\n",
    "even_numbers = numbers[1::2]\n",
    "\n",
    "print(even_numbers)"
   ]
  },
  {
   "attachments": {},
   "cell_type": "markdown",
   "metadata": {},
   "source": [
    "### Exercises with Answers\n",
    "\n",
    "Now, let's practice with some exercises:"
   ]
  },
  {
   "attachments": {},
   "cell_type": "markdown",
   "metadata": {},
   "source": [
    "1. Create a list called `numbers` with the integers from 1 to 5."
   ]
  },
  {
   "cell_type": "code",
   "execution_count": null,
   "metadata": {},
   "outputs": [],
   "source": [
    "numbers = [1, 2, 3, 4, 5]\n",
    "\n",
    "print(numbers)"
   ]
  },
  {
   "attachments": {},
   "cell_type": "markdown",
   "metadata": {},
   "source": [
    "2. Access the third element of the numbers list."
   ]
  },
  {
   "cell_type": "code",
   "execution_count": null,
   "metadata": {},
   "outputs": [],
   "source": [
    "numbers = [1, 2, 3, 4, 5]\n",
    "\n",
    "third_element = numbers[2]\n",
    "\n",
    "print(third_element)"
   ]
  },
  {
   "attachments": {},
   "cell_type": "markdown",
   "metadata": {},
   "source": [
    "3. Add the number 6 to the end of the numbers list."
   ]
  },
  {
   "cell_type": "code",
   "execution_count": null,
   "metadata": {},
   "outputs": [],
   "source": [
    "numbers = [1, 2, 3, 4, 5]\n",
    "\n",
    "numbers.append(6)\n",
    "\n",
    "print(numbers)"
   ]
  },
  {
   "attachments": {},
   "cell_type": "markdown",
   "metadata": {},
   "source": [
    "4. Insert the number 7 at the beginning of the numbers list."
   ]
  },
  {
   "cell_type": "code",
   "execution_count": null,
   "metadata": {},
   "outputs": [],
   "source": [
    "numbers = [1, 2, 3, 4, 5]\n",
    "\n",
    "numbers.insert(0, 7)\n",
    "\n",
    "print(numbers)"
   ]
  },
  {
   "attachments": {},
   "cell_type": "markdown",
   "metadata": {},
   "source": [
    "5. Remove the number 4 from the numbers list."
   ]
  },
  {
   "cell_type": "code",
   "execution_count": null,
   "metadata": {},
   "outputs": [],
   "source": [
    "numbers = [1, 2, 3, 4, 5]\n",
    "\n",
    "numbers.remove(4)\n",
    "\n",
    "print(numbers)"
   ]
  },
  {
   "attachments": {},
   "cell_type": "markdown",
   "metadata": {},
   "source": [
    "6. Find the index of the number 5 in the numbers list."
   ]
  },
  {
   "cell_type": "code",
   "execution_count": null,
   "metadata": {},
   "outputs": [],
   "source": [
    "numbers = [1, 2, 3, 4, 5]\n",
    "\n",
    "index_of_5 = numbers.index(5)\n",
    "\n",
    "print(index_of_5)"
   ]
  },
  {
   "attachments": {},
   "cell_type": "markdown",
   "metadata": {},
   "source": [
    "7. Create a new list even_numbers containing the even elements from the numbers list using slicing."
   ]
  },
  {
   "cell_type": "code",
   "execution_count": null,
   "metadata": {},
   "outputs": [],
   "source": [
    "numbers = [1, 2, 3, 4, 5]\n",
    "\n",
    "even_numbers = numbers[1::2]\n",
    "\n",
    "print(even_numbers)\n"
   ]
  },
  {
   "attachments": {},
   "cell_type": "markdown",
   "metadata": {},
   "source": [
    "8. Sort the numbers list in ascending order."
   ]
  },
  {
   "cell_type": "code",
   "execution_count": null,
   "metadata": {},
   "outputs": [],
   "source": [
    "numbers = [4, 2, 3, 5, 1]\n",
    "\n",
    "print(sorted(numbers))"
   ]
  },
  {
   "attachments": {},
   "cell_type": "markdown",
   "metadata": {},
   "source": [
    "9. Get the length of the numbers list."
   ]
  },
  {
   "cell_type": "code",
   "execution_count": null,
   "metadata": {},
   "outputs": [],
   "source": [
    "numbers = [4, 2, 3, 5, 1]\n",
    "\n",
    "print(len(numbers))"
   ]
  },
  {
   "attachments": {},
   "cell_type": "markdown",
   "metadata": {},
   "source": [
    "### Exercise 2 (intermediate-level)\n",
    "1. Given two lists, concatenate them to create a new combined list."
   ]
  },
  {
   "cell_type": "code",
   "execution_count": null,
   "metadata": {},
   "outputs": [],
   "source": [
    "list1 = [1, 2, 3, 4, 5]\n",
    "list2 = [6, 7, 8, 9, 10]\n",
    "\n",
    "print(list1 + list2)"
   ]
  },
  {
   "attachments": {},
   "cell_type": "markdown",
   "metadata": {},
   "source": [
    "### What is a Tuple in Python?\n",
    "A tuple is a collection data type in Python that is similar to a list, but with a few key differences:\n",
    "1. Immutability: Tuples are immutable, which means once you create a tuple, you cannot change its contents. You can't add, remove, or modify elements in a tuple after it's created.\n",
    "2. Syntax: Tuples are defined using parentheses (), and elements are separated by commas.\n",
    "\n",
    "Tuples are useful for situations where you want to store a collection of items that should not be modified, such as coordinates, RGB color values, or database records.\n",
    "\n",
    "Tuples are ordered collections of items, and they can hold various types of data, such as numbers, strings, or even other tuples."
   ]
  },
  {
   "attachments": {},
   "cell_type": "markdown",
   "metadata": {},
   "source": [
    "### Creating Tuples\n",
    "You can create a tuple by enclosing elements in parentheses and separating them with commas:"
   ]
  },
  {
   "cell_type": "code",
   "execution_count": null,
   "metadata": {},
   "outputs": [],
   "source": [
    "my_tuple = (1, 2, 3)\n",
    "another_tuple = ('banana', 'avocado', 'mango')\n",
    "mixed_tuple = (1, 'John', 2.5)\n",
    "\n",
    "print(my_tuple)\n",
    "print(another_tuple)\n",
    "print(mixed_tuple)"
   ]
  },
  {
   "attachments": {},
   "cell_type": "markdown",
   "metadata": {},
   "source": [
    "### Accessing Tuple Elements\n",
    "You can access elements of a tuple using indexing, just like with lists:"
   ]
  },
  {
   "cell_type": "code",
   "execution_count": null,
   "metadata": {},
   "outputs": [],
   "source": [
    "another_tuple = ('banana', 'avocado', 'mango')\n",
    "mixed_tuple = (1, 'John', 2.5)\n",
    "\n",
    "print(another_tuple[0])\n",
    "print(mixed_tuple[2])"
   ]
  },
  {
   "attachments": {},
   "cell_type": "markdown",
   "metadata": {},
   "source": [
    "### Tuple Slicing\n",
    "You can also slice tuples to extract a range of elements:"
   ]
  },
  {
   "cell_type": "code",
   "execution_count": null,
   "metadata": {},
   "outputs": [],
   "source": [
    "my_tuple = (1, 2, 3)\n",
    "\n",
    "print(my_tuple[1:2]) # starts from index 1 then stops to index 2"
   ]
  },
  {
   "attachments": {},
   "cell_type": "markdown",
   "metadata": {},
   "source": [
    "### Tuple Unpacking\n",
    "Tuple unpacking allows you to easily access the elements within a tuple without having to access them by index:"
   ]
  },
  {
   "cell_type": "code",
   "execution_count": null,
   "metadata": {},
   "outputs": [],
   "source": [
    "person_info = ('John', 20, 'Software Engineer')\n",
    "\n",
    "name, age, occupation = person_info\n",
    "\n",
    "print('Name: ', name)\n",
    "print('Age: ', age)\n",
    "print('Occupation: ', occupation)"
   ]
  },
  {
   "attachments": {},
   "cell_type": "markdown",
   "metadata": {},
   "source": [
    "### Tuple Methods\n",
    "Tuples have fewer methods compared to lists due to their immutability. Some common methods include count() and index().\n",
    "\n",
    "1. count(value): This method returns the number of occurrences of a specified value in the tuple.\n",
    "2. index(value, start, end): This method returns the index of the first occurrence of a specified value within a specified range. The optional start and end parameters allow you to search within a subset of the tuple."
   ]
  },
  {
   "cell_type": "code",
   "execution_count": null,
   "metadata": {},
   "outputs": [],
   "source": [
    "exam_scores = (85, 92, 78, 92, 88, 76, 92, 95, 88, 91)\n",
    "\n",
    "print(exam_scores.count(92)) # Count how many students scored 92\n",
    "print(exam_scores.index(88)) # Find the index of the first occurrence of 88"
   ]
  },
  {
   "cell_type": "code",
   "execution_count": null,
   "metadata": {},
   "outputs": [],
   "source": [
    "fruits = (\"apple\", \"banana\", \"cherry\", \"banana\", \"orange\", \"banana\", \"apple\")\n",
    "\n",
    "print(fruits.index(\"banana\", 2)) # Find the index of \"banana\" starting from index 2\n",
    "print(fruits.index(\"banana\", 4, 6)) # Find the index of \"banana\" between index 4 and 6"
   ]
  },
  {
   "attachments": {},
   "cell_type": "markdown",
   "metadata": {},
   "source": [
    "### Exercises\n",
    "Exercise 1\n",
    "Create a tuple named months containing the names of the twelve months."
   ]
  },
  {
   "cell_type": "code",
   "execution_count": null,
   "metadata": {},
   "outputs": [],
   "source": [
    "months = ('January', 'Febuary', 'March', 'April', 'May', 'June', 'July', 'August', 'September', 'October', 'November', 'December')\n",
    "\n",
    "print(months)"
   ]
  },
  {
   "attachments": {},
   "cell_type": "markdown",
   "metadata": {},
   "source": [
    "### Exercise 2:\n",
    "Given the tuple colors = (\"red\", \"green\", \"blue\"), access and print the second element."
   ]
  },
  {
   "cell_type": "code",
   "execution_count": null,
   "metadata": {},
   "outputs": [],
   "source": [
    "colors = (\"red\", \"green\", \"blue\")\n",
    "\n",
    "print(colors[1])"
   ]
  },
  {
   "attachments": {},
   "cell_type": "markdown",
   "metadata": {},
   "source": [
    "### Exercise 3:\n",
    "Create a tuple named coordinates containing the X, Y, and Z coordinates of a point (3, 7, 2). Then, unpack the tuple into three separate variables."
   ]
  },
  {
   "cell_type": "code",
   "execution_count": null,
   "metadata": {},
   "outputs": [],
   "source": [
    "coordinates = (3, 7, 2)\n",
    "\n",
    "X, Y, Z = coordinates\n",
    "\n",
    "print('X:', X)\n",
    "print('Y:', Y)\n",
    "print('Z:', Z)"
   ]
  },
  {
   "attachments": {},
   "cell_type": "markdown",
   "metadata": {},
   "source": [
    "### Exercise 4:\n",
    "Given the tuple numbers = (5, 2, 8, 5, 9, 3, 1), find out how many times the number 5 appears in the tuple."
   ]
  },
  {
   "cell_type": "code",
   "execution_count": null,
   "metadata": {},
   "outputs": [],
   "source": [
    "numbers = (5, 2, 8, 5, 9, 3, 1)\n",
    "\n",
    "numbers.count(5)"
   ]
  },
  {
   "attachments": {},
   "cell_type": "markdown",
   "metadata": {},
   "source": [
    "### What is a Dict or Dictionary in Python?\n",
    "A dictionary is a built-in data structure in Python that allows you to store and manage data in a structured way. It is also known as a \"mapping\" or \"associative array\". Unlike sequences (like lists or tuples) that use numeric indices, dictionaries use keys to access their values. Each key is associated with a value, and this relationship is often referred to as a \"key-value pair\"."
   ]
  },
  {
   "attachments": {},
   "cell_type": "markdown",
   "metadata": {},
   "source": [
    "### Creating a Dictionary\n",
    "\n",
    "You can create a dictionary by enclosing comma-separated key-value pairs within curly braces <b>{ }</b>. The general syntax is:"
   ]
  },
  {
   "cell_type": "code",
   "execution_count": null,
   "metadata": {},
   "outputs": [],
   "source": [
    "my_dict = {\n",
    "    \"key1\": \"value1\",\n",
    "    \"key2\": \"value2\",\n",
    "    \"key3\": \"value3\"\n",
    "}"
   ]
  },
  {
   "attachments": {},
   "cell_type": "markdown",
   "metadata": {},
   "source": [
    "Here's a practical example using a dictionary to store information about a person:"
   ]
  },
  {
   "cell_type": "code",
   "execution_count": null,
   "metadata": {},
   "outputs": [],
   "source": [
    "person = {\n",
    "    'name': 'John',\n",
    "    'age': 20,\n",
    "    'occupation': 'software engineer',\n",
    "}\n",
    "\n",
    "print(person)"
   ]
  },
  {
   "attachments": {},
   "cell_type": "markdown",
   "metadata": {},
   "source": [
    "### Accessing Values in a Dictionary\n",
    "You can access the values in a dictionary using their keys:"
   ]
  },
  {
   "cell_type": "code",
   "execution_count": null,
   "metadata": {},
   "outputs": [],
   "source": [
    "person = {\n",
    "    'name': 'John',\n",
    "    'age': 20,\n",
    "    'occupation': 'software engineer',\n",
    "}\n",
    "\n",
    "print(person['name'])\n",
    "print(person['age'])"
   ]
  },
  {
   "attachments": {},
   "cell_type": "markdown",
   "metadata": {},
   "source": [
    "### Modifying and Adding Items\n",
    "Dictionaries are mutable, meaning you can modify their values and add new key-value pairs:"
   ]
  },
  {
   "cell_type": "code",
   "execution_count": null,
   "metadata": {},
   "outputs": [],
   "source": [
    "person = {\n",
    "    'name': 'John',\n",
    "    'age': 20,\n",
    "    'occupation': 'software engineer',\n",
    "}\n",
    "\n",
    "person['name'] = 'Jebson'\n",
    "person['age'] = '18'\n",
    "\n",
    "print(person)"
   ]
  },
  {
   "attachments": {},
   "cell_type": "markdown",
   "metadata": {},
   "source": [
    "### Dictionary Methods\n",
    "Here are some common dictionary methods you might find useful:"
   ]
  },
  {
   "attachments": {},
   "cell_type": "markdown",
   "metadata": {},
   "source": [
    "- `dict.keys()` : Returns a list of all the keys in the dictionary."
   ]
  },
  {
   "cell_type": "code",
   "execution_count": null,
   "metadata": {},
   "outputs": [],
   "source": [
    "my_dict = {\n",
    "    \"key1\": \"value1\",\n",
    "    \"key2\": \"value2\",\n",
    "    \"key3\": \"value3\"\n",
    "}\n",
    "\n",
    "print(my_dict.keys())"
   ]
  },
  {
   "attachments": {},
   "cell_type": "markdown",
   "metadata": {},
   "source": [
    "- `dict.values()` : Returns a list of all the values in the dictionary."
   ]
  },
  {
   "cell_type": "code",
   "execution_count": null,
   "metadata": {},
   "outputs": [],
   "source": [
    "my_dict = {\n",
    "    \"key1\": \"value1\",\n",
    "    \"key2\": \"value2\",\n",
    "    \"key3\": \"value3\"\n",
    "}\n",
    "\n",
    "print(my_dict.values())"
   ]
  },
  {
   "attachments": {},
   "cell_type": "markdown",
   "metadata": {},
   "source": [
    "- `dict.items()` : Returns a list of tuples where each tuple represents a key-value pair."
   ]
  },
  {
   "cell_type": "code",
   "execution_count": null,
   "metadata": {},
   "outputs": [],
   "source": []
  },
  {
   "attachments": {},
   "cell_type": "markdown",
   "metadata": {},
   "source": [
    "- `dict.get(key, default)` : Retrieves the value associated with the key. If the key doesn't \n",
    "\n",
    "The dict.get(key, default) method is used to retrieve the value associated with a specific key from a dictionary. If the key is found in the dictionary, the method returns the corresponding value. If the key is not found, the method returns the default value that you provide."
   ]
  },
  {
   "cell_type": "code",
   "execution_count": null,
   "metadata": {},
   "outputs": [],
   "source": [
    "my_dict = {\n",
    "    \"key1\": \"value1\",\n",
    "    \"key2\": \"value2\",\n",
    "    \"key3\": \"value3\"\n",
    "}\n",
    "\n",
    "print(my_dict.get(\"key2\"))\n",
    "print(my_dict.get(\"key5\", \"value5\")) #If the \"key5\" is not found, the method returns the default value \"value5\" that you provide."
   ]
  },
  {
   "attachments": {},
   "cell_type": "markdown",
   "metadata": {},
   "source": [
    "- `dict.pop(key)` : Removes the key-value pair with the given key and returns its value."
   ]
  },
  {
   "cell_type": "code",
   "execution_count": null,
   "metadata": {},
   "outputs": [],
   "source": [
    "my_dict = {\n",
    "    \"key1\": \"value1\",\n",
    "    \"key2\": \"value2\",\n",
    "    \"key3\": \"value3\"\n",
    "}\n",
    "\n",
    "print(my_dict.pop(\"key2\")) # removes key & returns value\n",
    "print(my_dict)"
   ]
  },
  {
   "attachments": {},
   "cell_type": "markdown",
   "metadata": {},
   "source": [
    "- `dict.update(other_dict)` : Updates the dictionary with key-value pairs from another dictionary."
   ]
  },
  {
   "cell_type": "code",
   "execution_count": null,
   "metadata": {},
   "outputs": [],
   "source": [
    "dict1 = {\n",
    "    'a' : 1,\n",
    "    'b' : 2\n",
    "}\n",
    "\n",
    "dict2 = {\n",
    "    'c' : 3,\n",
    "    'd' : 4\n",
    "}\n",
    "\n",
    "dict1.update(dict2)\n",
    "\n",
    "print(dict1)"
   ]
  },
  {
   "attachments": {},
   "cell_type": "markdown",
   "metadata": {},
   "source": [
    "### Exercise 1: Weather Report\n",
    "Create a dictionary to store the weather forecast for a week. Use days of the week as keys and weather conditions as values. Then, print out the weather for a specific day."
   ]
  },
  {
   "cell_type": "code",
   "execution_count": null,
   "metadata": {},
   "outputs": [],
   "source": [
    "# make \"weather forecast dict\"\n",
    "# and create days of the week as keys\n",
    "# and weather conditions as values\n",
    "\n",
    "#then print out the weather for a specific day\n",
    "\n",
    "weather_forecast_dict = {\n",
    "    'monday' : 'sunny day',\n",
    "    'tuesday' : 'rainy day',\n",
    "    'wednesday' : 'windy dsay',\n",
    "    'thursday' : 'snowy day',\n",
    "    'friday' : 'foggy morning'\n",
    "}\n",
    "\n",
    "print(weather_forecast_dict['tuesday'])"
   ]
  },
  {
   "attachments": {},
   "cell_type": "markdown",
   "metadata": {},
   "source": [
    "### Exercise 2: Grocery Prices\n",
    "Create a dictionary to store the prices of various grocery items. Use item names as keys and prices as values. Calculate the total cost of a shopping list."
   ]
  },
  {
   "cell_type": "code",
   "execution_count": null,
   "metadata": {},
   "outputs": [],
   "source": [
    "# create a dictionary named grocery_items\n",
    "# create grocery names as keys\n",
    "# and prices as values\n",
    "\n",
    "# calculate the total cost of a shipping list\n",
    "\n",
    "grocery_items_dict = { 'salt' : 10, 'black pepper' : 50, 'bread' : 40 }\n",
    "\n",
    "print('Total Cost: ' + str(grocery_items_dict['salt'] + grocery_items_dict['black pepper'] + grocery_items_dict['bread']))"
   ]
  },
  {
   "attachments": {},
   "cell_type": "markdown",
   "metadata": {},
   "source": [
    "### Bool or Boolean Values\n",
    "Boolean values are a data type in Python that can have one of two values: True or False. These values are used to represent the concept of truth or falsehood, yes or no, on or off, etc. Boolean values are crucial for making decisions in programming, as they are used in conditional statements and logical operations."
   ]
  },
  {
   "attachments": {},
   "cell_type": "markdown",
   "metadata": {},
   "source": [
    "In Python, True and False are the built-in Boolean constants. Here's how you can assign and use Boolean values:"
   ]
  },
  {
   "cell_type": "code",
   "execution_count": 1,
   "metadata": {},
   "outputs": [
    {
     "name": "stdout",
     "output_type": "stream",
     "text": [
      "Its raining!\n"
     ]
    }
   ],
   "source": [
    "# Assigning Boolean values\n",
    "is_raining = True \n",
    "has_sunshine = False\n",
    "\n",
    "# Using Boolean values in conditional statements\n",
    "if is_raining:\n",
    "    print(\"Its raining!\")\n",
    "else:\n",
    "    print(\"It`s not raining!\")"
   ]
  },
  {
   "attachments": {},
   "cell_type": "markdown",
   "metadata": {},
   "source": [
    "### Exercises:\n",
    "\n",
    "1. Even or Odd Checker:\n",
    "Write a program that takes an integer input from the user and prints whether it's even or odd."
   ]
  },
  {
   "cell_type": "code",
   "execution_count": 23,
   "metadata": {},
   "outputs": [
    {
     "name": "stdout",
     "output_type": "stream",
     "text": [
      "You entered number: 100\n",
      "this num is even\n"
     ]
    }
   ],
   "source": [
    "x = int(input())\n",
    "print('You entered number: ' + str(x))\n",
    "if (x % 2) == 0:\n",
    "    print('this num is even')\n",
    "else:\n",
    "    print('this is odd')"
   ]
  },
  {
   "attachments": {},
   "cell_type": "markdown",
   "metadata": {},
   "source": [
    "### Age Group Classifier:\n",
    "Create a program that classifies a person's age into different groups: \"Child\" (0-12), \"Teenager\" (13-19), and \"Adult\" (20+)."
   ]
  },
  {
   "cell_type": "code",
   "execution_count": 28,
   "metadata": {},
   "outputs": [
    {
     "name": "stdout",
     "output_type": "stream",
     "text": [
      "Teenager\n"
     ]
    }
   ],
   "source": [
    "# input age\n",
    "# if age is equal to 0-12 print 'Child'\n",
    "# else if age equals to 13-19 print 'Teenager'\n",
    "# else 20+ print 'Adult' \n",
    "\n",
    "age = int(input('Enter Age: '))\n",
    "if age <= 12:\n",
    "    print('Child')\n",
    "elif age <= 19:\n",
    "    print('Teenager')\n",
    "else:\n",
    "    print('Adult')"
   ]
  },
  {
   "attachments": {},
   "cell_type": "markdown",
   "metadata": {},
   "source": [
    "### Password Checker:\n",
    "Write a program that asks the user for a password and checks if it meets certain criteria (e.g., length at least 8 characters, contains both letters and digits)."
   ]
  },
  {
   "cell_type": "code",
   "execution_count": 37,
   "metadata": {},
   "outputs": [
    {
     "name": "stdout",
     "output_type": "stream",
     "text": [
      "Input at least 8 Characters\n"
     ]
    }
   ],
   "source": [
    "# create input user for a password\n",
    "# and check if meets certain creteria\n",
    "# length at least 8 characters\n",
    "# contains both letters & digits\n",
    "\n",
    "password = str(input(\"Enter password: \"))\n",
    "if len(password) == 8:\n",
    "    if password == 'admin123':\n",
    "        print(\"Password Accepted\")\n",
    "    else:\n",
    "        print(\"Password Denied\")\n",
    "else:\n",
    "    print(\"Length at least 8 Characters\")"
   ]
  },
  {
   "attachments": {},
   "cell_type": "markdown",
   "metadata": {},
   "source": [
    "### Logical Operator Practice:\n",
    "Given two Boolean values a and b, calculate the result of various logical expressions: a and b, a or b, and not a."
   ]
  },
  {
   "cell_type": "code",
   "execution_count": 42,
   "metadata": {},
   "outputs": [
    {
     "name": "stdout",
     "output_type": "stream",
     "text": [
      "False True False\n"
     ]
    }
   ],
   "source": [
    "# boolean values a and b\n",
    "# calculate results of a and b, a or b, and not a.\n",
    "\n",
    "a = True \n",
    "b = False\n",
    "\n",
    "print(a and b, a or b, not a)"
   ]
  },
  {
   "attachments": {},
   "cell_type": "markdown",
   "metadata": {},
   "source": [
    "### Control Structures:\n",
    "Learn conditional statements: ```if, elif, else.```\n",
    "\n",
    "Conditional statements allow you to execute different blocks of code depending on whether a certain condition is true or false. The three main components you'll use are: if, elif (short for \"else if\"), and else. "
   ]
  },
  {
   "attachments": {},
   "cell_type": "markdown",
   "metadata": {},
   "source": [
    "1. The `if` statement:\n",
    "\n",
    "The if statement is used to execute a block of code only if a certain condition is true."
   ]
  },
  {
   "cell_type": "code",
   "execution_count": 43,
   "metadata": {},
   "outputs": [
    {
     "name": "stdout",
     "output_type": "stream",
     "text": [
      "You are an adult.\n"
     ]
    }
   ],
   "source": [
    "age = 18\n",
    "if age >= 18:\n",
    "    print(\"You are an adult.\")\n"
   ]
  },
  {
   "attachments": {},
   "cell_type": "markdown",
   "metadata": {},
   "source": [
    "2. The `elif` statement:\n",
    "\n",
    "The elif statement allows you to check additional conditions if the previous if condition(s) are false."
   ]
  },
  {
   "cell_type": "code",
   "execution_count": 50,
   "metadata": {},
   "outputs": [
    {
     "name": "stdout",
     "output_type": "stream",
     "text": [
      "You are teenager.\n"
     ]
    }
   ],
   "source": [
    "age = 15\n",
    "if age >= 18:\n",
    "    print(\"You are an adult.\")\n",
    "elif age >= 13:\n",
    "    print(\"You are teenager.\")"
   ]
  },
  {
   "attachments": {},
   "cell_type": "markdown",
   "metadata": {},
   "source": [
    "3. The `else` statement:\n",
    "\n",
    "The else statement is used to provide a default block of code to execute when none of the previous conditions are true."
   ]
  },
  {
   "cell_type": "code",
   "execution_count": 49,
   "metadata": {},
   "outputs": [
    {
     "name": "stdout",
     "output_type": "stream",
     "text": [
      "You are a child.\n"
     ]
    }
   ],
   "source": [
    "age = 8\n",
    "if age >= 18:\n",
    "    print(\"You are an adult.\")\n",
    "elif age >= 13:\n",
    "    print(\"You are teenager.\")\n",
    "else:\n",
    "    print(\"You are a child.\")"
   ]
  },
  {
   "attachments": {},
   "cell_type": "markdown",
   "metadata": {},
   "source": [
    "### Exercise 1:\n",
    "\n",
    "Write a program that takes an integer input from the user and prints whether the number is positive, negative, or zero."
   ]
  },
  {
   "cell_type": "code",
   "execution_count": 61,
   "metadata": {},
   "outputs": [
    {
     "name": "stdout",
     "output_type": "stream",
     "text": [
      "negative\n"
     ]
    }
   ],
   "source": [
    "# takes an integer input from the use\n",
    "# print whether the number is positive, negative, or zero.\n",
    "\n",
    "numbers = int(input(\"Enter number: \"))\n",
    "if numbers > 0:\n",
    "    print('positive')\n",
    "elif numbers < 0:\n",
    "    print('negative')\n",
    "else:\n",
    "    print('zero')\n"
   ]
  },
  {
   "attachments": {},
   "cell_type": "markdown",
   "metadata": {},
   "source": [
    "### Exercise 2:\n",
    "\n",
    "Write a program that checks `if` a student's grade is 'A', 'B', 'C', 'D', or 'F' and prints a corresponding message."
   ]
  },
  {
   "cell_type": "code",
   "execution_count": 73,
   "metadata": {},
   "outputs": [
    {
     "name": "stdout",
     "output_type": "stream",
     "text": [
      "Grade F: (Fail)\n"
     ]
    }
   ],
   "source": [
    "grade = input(\"Enter your grade: \").upper()\n",
    "\n",
    "if grade == 'A':\n",
    "    print('Grade A (Excellent)')\n",
    "elif grade == 'B':\n",
    "    print('Grade B (Good)')\n",
    "elif grade == 'C':\n",
    "    print('Grade C (Satisfactory)')\n",
    "elif grade == 'D':\n",
    "    print('Grade D (Below Average)')\n",
    "elif grade == 'F':\n",
    "    print('Grade F (Fail)')\n",
    "else:\n",
    "    print('Input valid grade')"
   ]
  }
 ],
 "metadata": {
  "kernelspec": {
   "display_name": "Python 3",
   "language": "python",
   "name": "python3"
  },
  "language_info": {
   "codemirror_mode": {
    "name": "ipython",
    "version": 3
   },
   "file_extension": ".py",
   "mimetype": "text/x-python",
   "name": "python",
   "nbconvert_exporter": "python",
   "pygments_lexer": "ipython3",
   "version": "3.11.4"
  },
  "orig_nbformat": 4
 },
 "nbformat": 4,
 "nbformat_minor": 2
}
