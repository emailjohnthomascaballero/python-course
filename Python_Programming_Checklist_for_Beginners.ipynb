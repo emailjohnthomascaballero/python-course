{
 "cells": [
  {
   "attachments": {},
   "cell_type": "markdown",
   "metadata": {},
   "source": [
    "# Python Programming Checklist for Beginners\n",
    "\n",
    "  ## Basic\n",
    "\n",
    "  ### Understand basic data types\n",
    "\n",
    "  - list -  a list is a versatile and commonly used data structure that can hold a collection of items. Lists are mutable, meaning you can modify them after creation. Each item in a list is called an element and is identified by its position or index within the list.\n"
   ]
  },
  {
   "attachments": {},
   "cell_type": "markdown",
   "metadata": {},
   "source": [
    "### List Creation\n",
    "You can create a list by enclosing comma-separated elements within square brackets [ ]."
   ]
  },
  {
   "cell_type": "code",
   "execution_count": 1,
   "metadata": {},
   "outputs": [
    {
     "name": "stdout",
     "output_type": "stream",
     "text": [
      "banana\n"
     ]
    }
   ],
   "source": [
    "# Creating a list\n",
    "fruits = ['banana', 'coconut', 'apple', 'avocado']"
   ]
  },
  {
   "attachments": {},
   "cell_type": "markdown",
   "metadata": {},
   "source": [
    "### Accessing Elements\n",
    "You can access elements in a list using their index. Remember that indices start from 0."
   ]
  },
  {
   "cell_type": "code",
   "execution_count": 3,
   "metadata": {},
   "outputs": [
    {
     "name": "stdout",
     "output_type": "stream",
     "text": [
      "banana\n",
      "coconut avocado\n"
     ]
    }
   ],
   "source": [
    "print(fruits[0])\n",
    "print(fruits[1], fruits[3])"
   ]
  },
  {
   "attachments": {},
   "cell_type": "markdown",
   "metadata": {},
   "source": [
    "### List Operations\n",
    "* Appending: Adding elements to the end of the list."
   ]
  },
  {
   "cell_type": "code",
   "execution_count": 8,
   "metadata": {},
   "outputs": [
    {
     "name": "stdout",
     "output_type": "stream",
     "text": [
      "['banana', 'coconut', 'apple', 'avocado', 'lanzones']\n"
     ]
    }
   ],
   "source": [
    "fruits = ['banana', 'coconut', 'apple', 'avocado']\n",
    "\n",
    "fruits.append('lanzones')\n",
    "\n",
    "print(fruits)"
   ]
  },
  {
   "attachments": {},
   "cell_type": "markdown",
   "metadata": {},
   "source": [
    "* Inserting: Adding an element at a specific index."
   ]
  },
  {
   "cell_type": "code",
   "execution_count": 9,
   "metadata": {},
   "outputs": [
    {
     "name": "stdout",
     "output_type": "stream",
     "text": [
      "['banana', 'coconut', 'rambutan', 'apple', 'avocado']\n"
     ]
    }
   ],
   "source": [
    "fruits = ['banana', 'coconut', 'apple', 'avocado']\n",
    "\n",
    "fruits.insert(2, 'rambutan') # Insert 'rambutan in index 2\n",
    "\n",
    "print(fruits)"
   ]
  },
  {
   "attachments": {},
   "cell_type": "markdown",
   "metadata": {},
   "source": [
    "- Removing: Removing elements from the list."
   ]
  },
  {
   "cell_type": "code",
   "execution_count": 10,
   "metadata": {},
   "outputs": [
    {
     "name": "stdout",
     "output_type": "stream",
     "text": [
      "['banana', 'apple', 'avocado']\n"
     ]
    }
   ],
   "source": [
    "fruits = ['banana', 'coconut', 'apple', 'avocado']\n",
    "\n",
    "fruits.remove('coconut')\n",
    "\n",
    "print(fruits)"
   ]
  },
  {
   "attachments": {},
   "cell_type": "markdown",
   "metadata": {},
   "source": [
    "- Popping: Removing and returning an element at a specific index."
   ]
  },
  {
   "cell_type": "code",
   "execution_count": 12,
   "metadata": {},
   "outputs": [
    {
     "name": "stdout",
     "output_type": "stream",
     "text": [
      "['banana', 'apple', 'avocado']\n",
      "coconut\n"
     ]
    }
   ],
   "source": [
    "fruits = ['banana', 'coconut', 'apple', 'avocado']\n",
    "\n",
    "\n",
    "popped_fruit = fruits.pop(1) # remove and return element at index 1\n",
    "\n",
    "print(fruits)\n",
    "print(popped_fruit)"
   ]
  },
  {
   "attachments": {},
   "cell_type": "markdown",
   "metadata": {},
   "source": [
    "* Index: Finding the index of a specific element."
   ]
  },
  {
   "cell_type": "code",
   "execution_count": 13,
   "metadata": {},
   "outputs": [
    {
     "name": "stdout",
     "output_type": "stream",
     "text": [
      "3\n"
     ]
    }
   ],
   "source": [
    "fruits = ['banana', 'coconut', 'apple', 'avocado']\n",
    "\n",
    "index_of_avocado = fruits.index('avocado')\n",
    "\n",
    "print(index_of_avocado)"
   ]
  },
  {
   "attachments": {},
   "cell_type": "markdown",
   "metadata": {},
   "source": [
    "* Length: Finding the length of the list."
   ]
  },
  {
   "cell_type": "code",
   "execution_count": 14,
   "metadata": {},
   "outputs": [
    {
     "name": "stdout",
     "output_type": "stream",
     "text": [
      "4\n"
     ]
    }
   ],
   "source": [
    "fruits = ['banana', 'coconut', 'apple', 'avocado']\n",
    "\n",
    "num_fruits = len(fruits)\n",
    "\n",
    "print(num_fruits)"
   ]
  },
  {
   "attachments": {},
   "cell_type": "markdown",
   "metadata": {},
   "source": [
    "* Sorting: Sorting the elements in the list."
   ]
  },
  {
   "cell_type": "code",
   "execution_count": 26,
   "metadata": {},
   "outputs": [
    {
     "name": "stdout",
     "output_type": "stream",
     "text": [
      "['apple', 'avocado', 'banana', 'coconut']\n"
     ]
    }
   ],
   "source": [
    "fruits = ['banana', 'coconut', 'apple', 'avocado']\n",
    "\n",
    "sorted_fruits = sorted(fruits)\n",
    "\n",
    "print(sorted_fruits)"
   ]
  },
  {
   "attachments": {},
   "cell_type": "markdown",
   "metadata": {},
   "source": [
    "### List Slicing\n",
    "You can extract a portion of a list using slicing."
   ]
  },
  {
   "cell_type": "code",
   "execution_count": 27,
   "metadata": {},
   "outputs": [
    {
     "name": "stdout",
     "output_type": "stream",
     "text": [
      "[2, 3, 4]\n"
     ]
    }
   ],
   "source": [
    "# So, let's break down my_list[1:4]:\n",
    "\n",
    "# 1 is where you start cutting. It means you start from the second number (because counting starts from 0).\n",
    "# 4 is where you stop cutting. But you don't include this number itself. So, you stop right before the fourth number.\n",
    "\n",
    "my_list = [1, 2, 3, 4, 5]\n",
    "\n",
    "subset = my_list[1:4] # So, when you slice the list from the second number (2) up to, but not including, the fourth number, you get [2, 3, 4].\n",
    "\n",
    "print(subset)"
   ]
  },
  {
   "attachments": {},
   "cell_type": "markdown",
   "metadata": {},
   "source": [
    "The syntax for slicing is start:end:step, where:\n",
    "- start is the index of the first element you want to include in the slice.\n",
    "- end is the index of the first element that you don't want to include in the slice.\n",
    "- step is the number of positions to skip between elements."
   ]
  },
  {
   "cell_type": "code",
   "execution_count": 61,
   "metadata": {},
   "outputs": [
    {
     "name": "stdout",
     "output_type": "stream",
     "text": [
      "[2, 4, 6, 8, 10]\n"
     ]
    }
   ],
   "source": [
    "numbers = [1, 2, 3, 4, 5, 6, 7, 8 , 9, 10]\n",
    "\n",
    "even_numbers = numbers[1::2]\n",
    "\n",
    "print(even_numbers)"
   ]
  },
  {
   "attachments": {},
   "cell_type": "markdown",
   "metadata": {},
   "source": [
    "### Exercises with Answers\n",
    "\n",
    "Now, let's practice with some exercises:"
   ]
  },
  {
   "attachments": {},
   "cell_type": "markdown",
   "metadata": {},
   "source": [
    "1. Create a list called `numbers` with the integers from 1 to 5."
   ]
  },
  {
   "cell_type": "code",
   "execution_count": 28,
   "metadata": {},
   "outputs": [
    {
     "name": "stdout",
     "output_type": "stream",
     "text": [
      "[1, 2, 3, 4, 5]\n"
     ]
    }
   ],
   "source": [
    "numbers = [1, 2, 3, 4, 5]\n",
    "\n",
    "print(numbers)"
   ]
  },
  {
   "attachments": {},
   "cell_type": "markdown",
   "metadata": {},
   "source": [
    "2. Access the third element of the numbers list."
   ]
  },
  {
   "cell_type": "code",
   "execution_count": 30,
   "metadata": {},
   "outputs": [
    {
     "name": "stdout",
     "output_type": "stream",
     "text": [
      "3\n"
     ]
    }
   ],
   "source": [
    "numbers = [1, 2, 3, 4, 5]\n",
    "\n",
    "third_element = numbers[2]\n",
    "\n",
    "print(third_element)"
   ]
  },
  {
   "attachments": {},
   "cell_type": "markdown",
   "metadata": {},
   "source": [
    "3. Add the number 6 to the end of the numbers list."
   ]
  },
  {
   "cell_type": "code",
   "execution_count": 32,
   "metadata": {},
   "outputs": [
    {
     "name": "stdout",
     "output_type": "stream",
     "text": [
      "[1, 2, 3, 4, 5, 6]\n"
     ]
    }
   ],
   "source": [
    "numbers = [1, 2, 3, 4, 5]\n",
    "\n",
    "numbers.append(6)\n",
    "\n",
    "print(numbers)"
   ]
  },
  {
   "attachments": {},
   "cell_type": "markdown",
   "metadata": {},
   "source": [
    "4. Insert the number 7 at the beginning of the numbers list."
   ]
  },
  {
   "cell_type": "code",
   "execution_count": 34,
   "metadata": {},
   "outputs": [
    {
     "name": "stdout",
     "output_type": "stream",
     "text": [
      "[7, 1, 2, 3, 4, 5]\n"
     ]
    }
   ],
   "source": [
    "numbers = [1, 2, 3, 4, 5]\n",
    "\n",
    "numbers.insert(0, 7)\n",
    "\n",
    "print(numbers)"
   ]
  },
  {
   "attachments": {},
   "cell_type": "markdown",
   "metadata": {},
   "source": [
    "5. Remove the number 4 from the numbers list."
   ]
  },
  {
   "cell_type": "code",
   "execution_count": 35,
   "metadata": {},
   "outputs": [
    {
     "name": "stdout",
     "output_type": "stream",
     "text": [
      "[1, 2, 3, 5]\n"
     ]
    }
   ],
   "source": [
    "numbers = [1, 2, 3, 4, 5]\n",
    "\n",
    "numbers.remove(4)\n",
    "\n",
    "print(numbers)"
   ]
  },
  {
   "attachments": {},
   "cell_type": "markdown",
   "metadata": {},
   "source": [
    "6. Find the index of the number 5 in the numbers list."
   ]
  },
  {
   "cell_type": "code",
   "execution_count": 39,
   "metadata": {},
   "outputs": [
    {
     "name": "stdout",
     "output_type": "stream",
     "text": [
      "4\n"
     ]
    }
   ],
   "source": [
    "numbers = [1, 2, 3, 4, 5]\n",
    "\n",
    "index_of_5 = numbers.index(5)\n",
    "\n",
    "print(index_of_5)"
   ]
  },
  {
   "attachments": {},
   "cell_type": "markdown",
   "metadata": {},
   "source": [
    "7. Create a new list even_numbers containing the even elements from the numbers list using slicing."
   ]
  },
  {
   "cell_type": "code",
   "execution_count": 60,
   "metadata": {},
   "outputs": [
    {
     "name": "stdout",
     "output_type": "stream",
     "text": [
      "[2, 4]\n"
     ]
    }
   ],
   "source": [
    "numbers = [1, 2, 3, 4, 5]\n",
    "\n",
    "even_numbers = numbers[1::2]\n",
    "\n",
    "print(even_numbers)\n"
   ]
  },
  {
   "attachments": {},
   "cell_type": "markdown",
   "metadata": {},
   "source": [
    "8. Sort the numbers list in ascending order."
   ]
  },
  {
   "cell_type": "code",
   "execution_count": 8,
   "metadata": {},
   "outputs": [
    {
     "name": "stdout",
     "output_type": "stream",
     "text": [
      "[1, 2, 3, 4, 5]\n"
     ]
    }
   ],
   "source": [
    "numbers = [4, 2, 3, 5, 1]\n",
    "\n",
    "print(sorted(numbers))"
   ]
  },
  {
   "attachments": {},
   "cell_type": "markdown",
   "metadata": {},
   "source": [
    "9. Get the length of the numbers list."
   ]
  },
  {
   "cell_type": "code",
   "execution_count": 9,
   "metadata": {},
   "outputs": [
    {
     "name": "stdout",
     "output_type": "stream",
     "text": [
      "5\n"
     ]
    }
   ],
   "source": [
    "numbers = [4, 2, 3, 5, 1]\n",
    "\n",
    "print(len(numbers))"
   ]
  },
  {
   "attachments": {},
   "cell_type": "markdown",
   "metadata": {},
   "source": [
    "### Exercise 2 (intermediate-level)\n",
    "1. Given two lists, concatenate them to create a new combined list."
   ]
  },
  {
   "cell_type": "code",
   "execution_count": 10,
   "metadata": {},
   "outputs": [
    {
     "name": "stdout",
     "output_type": "stream",
     "text": [
      "[1, 2, 3, 4, 5, 6, 7, 8, 9, 10]\n"
     ]
    }
   ],
   "source": [
    "list1 = [1, 2, 3, 4, 5]\n",
    "list2 = [6, 7, 8, 9, 10]\n",
    "\n",
    "print(list1 + list2)"
   ]
  },
  {
   "attachments": {},
   "cell_type": "markdown",
   "metadata": {},
   "source": [
    "### What is a Tuple in Python?\n",
    "A tuple is a collection data type in Python that is similar to a list, but with a few key differences:\n",
    "1. Immutability: Tuples are immutable, which means once you create a tuple, you cannot change its contents. You can't add, remove, or modify elements in a tuple after it's created.\n",
    "2. Syntax: Tuples are defined using parentheses (), and elements are separated by commas.\n",
    "\n",
    "Tuples are useful for situations where you want to store a collection of items that should not be modified, such as coordinates, RGB color values, or database records.\n",
    "\n",
    "Tuples are ordered collections of items, and they can hold various types of data, such as numbers, strings, or even other tuples."
   ]
  },
  {
   "attachments": {},
   "cell_type": "markdown",
   "metadata": {},
   "source": [
    "### Creating Tuples\n",
    "You can create a tuple by enclosing elements in parentheses and separating them with commas:"
   ]
  },
  {
   "cell_type": "code",
   "execution_count": 3,
   "metadata": {},
   "outputs": [
    {
     "name": "stdout",
     "output_type": "stream",
     "text": [
      "(1, 2, 3)\n",
      "('banana', 'avocado', 'mango')\n",
      "(1, 'John', 2.5)\n"
     ]
    }
   ],
   "source": [
    "my_tuple = (1, 2, 3)\n",
    "another_tuple = ('banana', 'avocado', 'mango')\n",
    "mixed_tuple = (1, 'John', 2.5)\n",
    "\n",
    "print(my_tuple)\n",
    "print(another_tuple)\n",
    "print(mixed_tuple)"
   ]
  },
  {
   "attachments": {},
   "cell_type": "markdown",
   "metadata": {},
   "source": [
    "### Accessing Tuple Elements\n",
    "You can access elements of a tuple using indexing, just like with lists:"
   ]
  },
  {
   "cell_type": "code",
   "execution_count": 5,
   "metadata": {},
   "outputs": [
    {
     "name": "stdout",
     "output_type": "stream",
     "text": [
      "banana\n",
      "2.5\n"
     ]
    }
   ],
   "source": [
    "another_tuple = ('banana', 'avocado', 'mango')\n",
    "mixed_tuple = (1, 'John', 2.5)\n",
    "\n",
    "print(another_tuple[0])\n",
    "print(mixed_tuple[2])"
   ]
  },
  {
   "attachments": {},
   "cell_type": "markdown",
   "metadata": {},
   "source": [
    "### Tuple Slicing\n",
    "You can also slice tuples to extract a range of elements:"
   ]
  },
  {
   "cell_type": "code",
   "execution_count": 6,
   "metadata": {},
   "outputs": [
    {
     "name": "stdout",
     "output_type": "stream",
     "text": [
      "(2,)\n"
     ]
    }
   ],
   "source": [
    "my_tuple = (1, 2, 3)\n",
    "\n",
    "print(my_tuple[1:2]) # starts from index 1 then stops to index 2"
   ]
  },
  {
   "attachments": {},
   "cell_type": "markdown",
   "metadata": {},
   "source": [
    "### Tuple Unpacking\n",
    "Tuple unpacking allows you to easily access the elements within a tuple without having to access them by index:"
   ]
  },
  {
   "cell_type": "code",
   "execution_count": 10,
   "metadata": {},
   "outputs": [
    {
     "name": "stdout",
     "output_type": "stream",
     "text": [
      "Name:  John\n",
      "Age:  20\n",
      "Occupation:  Software Engineer\n"
     ]
    }
   ],
   "source": [
    "person_info = ('John', 20, 'Software Engineer')\n",
    "\n",
    "name, age, occupation = person_info\n",
    "\n",
    "print('Name: ', name)\n",
    "print('Age: ', age)\n",
    "print('Occupation: ', occupation)"
   ]
  },
  {
   "attachments": {},
   "cell_type": "markdown",
   "metadata": {},
   "source": [
    "### Tuple Methods\n",
    "Tuples have fewer methods compared to lists due to their immutability. Some common methods include count() and index().\n",
    "\n",
    "1. count(value): This method returns the number of occurrences of a specified value in the tuple.\n",
    "2. index(value, start, end): This method returns the index of the first occurrence of a specified value within a specified range. The optional start and end parameters allow you to search within a subset of the tuple."
   ]
  },
  {
   "cell_type": "code",
   "execution_count": 20,
   "metadata": {},
   "outputs": [
    {
     "name": "stdout",
     "output_type": "stream",
     "text": [
      "3\n",
      "4\n"
     ]
    }
   ],
   "source": [
    "exam_scores = (85, 92, 78, 92, 88, 76, 92, 95, 88, 91)\n",
    "\n",
    "print(exam_scores.count(92)) # Count how many students scored 92\n",
    "print(exam_scores.index(88)) # Find the index of the first occurrence of 88"
   ]
  },
  {
   "cell_type": "code",
   "execution_count": 25,
   "metadata": {},
   "outputs": [
    {
     "name": "stdout",
     "output_type": "stream",
     "text": [
      "3\n",
      "5\n"
     ]
    }
   ],
   "source": [
    "fruits = (\"apple\", \"banana\", \"cherry\", \"banana\", \"orange\", \"banana\", \"apple\")\n",
    "\n",
    "print(fruits.index(\"banana\", 2)) # Find the index of \"banana\" starting from index 2\n",
    "print(fruits.index(\"banana\", 4, 6)) # Find the index of \"banana\" between index 4 and 6"
   ]
  },
  {
   "attachments": {},
   "cell_type": "markdown",
   "metadata": {},
   "source": [
    "### Exercises\n",
    "Exercise 1\n",
    "Create a tuple named months containing the names of the twelve months."
   ]
  },
  {
   "cell_type": "code",
   "execution_count": 29,
   "metadata": {},
   "outputs": [
    {
     "name": "stdout",
     "output_type": "stream",
     "text": [
      "('January', 'Febuary', 'March', 'April', 'May', 'June', 'July', 'August', 'September', 'October', 'November', 'December')\n"
     ]
    }
   ],
   "source": [
    "months = ('January', 'Febuary', 'March', 'April', 'May', 'June', 'July', 'August', 'September', 'October', 'November', 'December')\n",
    "\n",
    "print(months)"
   ]
  },
  {
   "attachments": {},
   "cell_type": "markdown",
   "metadata": {},
   "source": [
    "### Exercise 2:\n",
    "Given the tuple colors = (\"red\", \"green\", \"blue\"), access and print the second element."
   ]
  },
  {
   "cell_type": "code",
   "execution_count": 30,
   "metadata": {},
   "outputs": [
    {
     "name": "stdout",
     "output_type": "stream",
     "text": [
      "green\n"
     ]
    }
   ],
   "source": [
    "colors = (\"red\", \"green\", \"blue\")\n",
    "\n",
    "print(colors[1])"
   ]
  },
  {
   "attachments": {},
   "cell_type": "markdown",
   "metadata": {},
   "source": [
    "### Exercise 3:\n",
    "Create a tuple named coordinates containing the X, Y, and Z coordinates of a point (3, 7, 2). Then, unpack the tuple into three separate variables."
   ]
  },
  {
   "cell_type": "code",
   "execution_count": 34,
   "metadata": {},
   "outputs": [
    {
     "name": "stdout",
     "output_type": "stream",
     "text": [
      "X: 3\n",
      "Y: 7\n",
      "Z: 2\n"
     ]
    }
   ],
   "source": [
    "coordinates = (3, 7, 2)\n",
    "\n",
    "X, Y, Z = coordinates\n",
    "\n",
    "print('X:', X)\n",
    "print('Y:', Y)\n",
    "print('Z:', Z)"
   ]
  },
  {
   "attachments": {},
   "cell_type": "markdown",
   "metadata": {},
   "source": [
    "### Exercise 4:\n",
    "Given the tuple numbers = (5, 2, 8, 5, 9, 3, 1), find out how many times the number 5 appears in the tuple."
   ]
  },
  {
   "cell_type": "code",
   "execution_count": 35,
   "metadata": {},
   "outputs": [
    {
     "data": {
      "text/plain": [
       "2"
      ]
     },
     "execution_count": 35,
     "metadata": {},
     "output_type": "execute_result"
    }
   ],
   "source": [
    "numbers = (5, 2, 8, 5, 9, 3, 1)\n",
    "\n",
    "numbers.count(5)"
   ]
  },
  {
   "attachments": {},
   "cell_type": "markdown",
   "metadata": {},
   "source": [
    "### What is a Dict or Dictionary in Python?\n",
    "A dictionary is a built-in data structure in Python that allows you to store and manage data in a structured way. It is also known as a \"mapping\" or \"associative array\". Unlike sequences (like lists or tuples) that use numeric indices, dictionaries use keys to access their values. Each key is associated with a value, and this relationship is often referred to as a \"key-value pair\"."
   ]
  },
  {
   "attachments": {},
   "cell_type": "markdown",
   "metadata": {},
   "source": [
    "### Creating a Dictionary\n",
    "\n",
    "You can create a dictionary by enclosing comma-separated key-value pairs within curly braces <b>{ }</b>. The general syntax is:"
   ]
  },
  {
   "cell_type": "code",
   "execution_count": null,
   "metadata": {},
   "outputs": [],
   "source": [
    "my_dict = {\n",
    "    \"key1\": \"value1\",\n",
    "    \"key2\": \"value2\",\n",
    "    \"key3\": \"value3\"\n",
    "}"
   ]
  },
  {
   "attachments": {},
   "cell_type": "markdown",
   "metadata": {},
   "source": [
    "Here's a practical example using a dictionary to store information about a person:"
   ]
  },
  {
   "cell_type": "code",
   "execution_count": 36,
   "metadata": {},
   "outputs": [
    {
     "name": "stdout",
     "output_type": "stream",
     "text": [
      "{'name': 'John', 'age': 20, 'occupation': 'software engineer'}\n"
     ]
    }
   ],
   "source": [
    "person = {\n",
    "    'name': 'John',\n",
    "    'age': 20,\n",
    "    'occupation': 'software engineer',\n",
    "}\n",
    "\n",
    "print(person)"
   ]
  },
  {
   "attachments": {},
   "cell_type": "markdown",
   "metadata": {},
   "source": [
    "### Accessing Values in a Dictionary\n",
    "You can access the values in a dictionary using their keys:"
   ]
  },
  {
   "cell_type": "code",
   "execution_count": 38,
   "metadata": {},
   "outputs": [
    {
     "name": "stdout",
     "output_type": "stream",
     "text": [
      "John\n",
      "20\n"
     ]
    }
   ],
   "source": [
    "person = {\n",
    "    'name': 'John',\n",
    "    'age': 20,\n",
    "    'occupation': 'software engineer',\n",
    "}\n",
    "\n",
    "print(person['name'])\n",
    "print(person['age'])"
   ]
  },
  {
   "attachments": {},
   "cell_type": "markdown",
   "metadata": {},
   "source": [
    "### Modifying and Adding Items\n",
    "Dictionaries are mutable, meaning you can modify their values and add new key-value pairs:"
   ]
  },
  {
   "cell_type": "code",
   "execution_count": 40,
   "metadata": {},
   "outputs": [
    {
     "name": "stdout",
     "output_type": "stream",
     "text": [
      "{'name': 'Jebson', 'age': '18', 'occupation': 'software engineer'}\n"
     ]
    }
   ],
   "source": [
    "person = {\n",
    "    'name': 'John',\n",
    "    'age': 20,\n",
    "    'occupation': 'software engineer',\n",
    "}\n",
    "\n",
    "person['name'] = 'Jebson'\n",
    "person['age'] = '18'\n",
    "\n",
    "print(person)"
   ]
  },
  {
   "attachments": {},
   "cell_type": "markdown",
   "metadata": {},
   "source": [
    "### Dictionary Methods\n",
    "Here are some common dictionary methods you might find useful:"
   ]
  },
  {
   "attachments": {},
   "cell_type": "markdown",
   "metadata": {},
   "source": [
    "- `dict.keys()` : Returns a list of all the keys in the dictionary."
   ]
  },
  {
   "cell_type": "code",
   "execution_count": 41,
   "metadata": {},
   "outputs": [
    {
     "name": "stdout",
     "output_type": "stream",
     "text": [
      "dict_keys(['key1', 'key2', 'key3'])\n"
     ]
    }
   ],
   "source": [
    "my_dict = {\n",
    "    \"key1\": \"value1\",\n",
    "    \"key2\": \"value2\",\n",
    "    \"key3\": \"value3\"\n",
    "}\n",
    "\n",
    "print(my_dict.keys())"
   ]
  },
  {
   "attachments": {},
   "cell_type": "markdown",
   "metadata": {},
   "source": [
    "- `dict.values()` : Returns a list of all the values in the dictionary."
   ]
  },
  {
   "cell_type": "code",
   "execution_count": 42,
   "metadata": {},
   "outputs": [
    {
     "name": "stdout",
     "output_type": "stream",
     "text": [
      "dict_values(['value1', 'value2', 'value3'])\n"
     ]
    }
   ],
   "source": [
    "my_dict = {\n",
    "    \"key1\": \"value1\",\n",
    "    \"key2\": \"value2\",\n",
    "    \"key3\": \"value3\"\n",
    "}\n",
    "\n",
    "print(my_dict.values())"
   ]
  },
  {
   "attachments": {},
   "cell_type": "markdown",
   "metadata": {},
   "source": [
    "- `dict.items()` : Returns a list of tuples where each tuple represents a key-value pair."
   ]
  },
  {
   "cell_type": "code",
   "execution_count": null,
   "metadata": {},
   "outputs": [],
   "source": []
  },
  {
   "attachments": {},
   "cell_type": "markdown",
   "metadata": {},
   "source": [
    "- `dict.get(key, default)` : Retrieves the value associated with the key. If the key doesn't \n",
    "\n",
    "The dict.get(key, default) method is used to retrieve the value associated with a specific key from a dictionary. If the key is found in the dictionary, the method returns the corresponding value. If the key is not found, the method returns the default value that you provide."
   ]
  },
  {
   "cell_type": "code",
   "execution_count": 45,
   "metadata": {},
   "outputs": [
    {
     "name": "stdout",
     "output_type": "stream",
     "text": [
      "value2\n",
      "value5\n"
     ]
    }
   ],
   "source": [
    "my_dict = {\n",
    "    \"key1\": \"value1\",\n",
    "    \"key2\": \"value2\",\n",
    "    \"key3\": \"value3\"\n",
    "}\n",
    "\n",
    "print(my_dict.get(\"key2\"))\n",
    "print(my_dict.get(\"key5\", \"value5\")) #If the \"key5\" is not found, the method returns the default value \"value5\" that you provide."
   ]
  },
  {
   "attachments": {},
   "cell_type": "markdown",
   "metadata": {},
   "source": [
    "- `dict.pop(key)` : Removes the key-value pair with the given key and returns its value."
   ]
  },
  {
   "cell_type": "code",
   "execution_count": 48,
   "metadata": {},
   "outputs": [
    {
     "name": "stdout",
     "output_type": "stream",
     "text": [
      "value2\n",
      "{'key1': 'value1', 'key3': 'value3'}\n"
     ]
    }
   ],
   "source": [
    "my_dict = {\n",
    "    \"key1\": \"value1\",\n",
    "    \"key2\": \"value2\",\n",
    "    \"key3\": \"value3\"\n",
    "}\n",
    "\n",
    "print(my_dict.pop(\"key2\")) # removes key & returns value\n",
    "print(my_dict)"
   ]
  },
  {
   "attachments": {},
   "cell_type": "markdown",
   "metadata": {},
   "source": [
    "- `dict.update(other_dict)` : Updates the dictionary with key-value pairs from another dictionary."
   ]
  },
  {
   "cell_type": "code",
   "execution_count": 57,
   "metadata": {},
   "outputs": [
    {
     "name": "stdout",
     "output_type": "stream",
     "text": [
      "{'a': 1, 'b': 2, 'c': 3, 'd': 4}\n"
     ]
    }
   ],
   "source": [
    "dict1 = {\n",
    "    'a' : 1,\n",
    "    'b' : 2\n",
    "}\n",
    "\n",
    "dict2 = {\n",
    "    'c' : 3,\n",
    "    'd' : 4\n",
    "}\n",
    "\n",
    "dict1.update(dict2)\n",
    "\n",
    "print(dict1)"
   ]
  },
  {
   "attachments": {},
   "cell_type": "markdown",
   "metadata": {},
   "source": [
    "### Exercise 1: Weather Report\n",
    "Create a dictionary to store the weather forecast for a week. Use days of the week as keys and weather conditions as values. Then, print out the weather for a specific day."
   ]
  },
  {
   "cell_type": "code",
   "execution_count": 58,
   "metadata": {},
   "outputs": [
    {
     "name": "stdout",
     "output_type": "stream",
     "text": [
      "rainy day\n"
     ]
    }
   ],
   "source": [
    "# make \"weather forecast dict\"\n",
    "# and create days of the week as keys\n",
    "# and weather conditions as values\n",
    "\n",
    "#then print out the weather for a specific day\n",
    "\n",
    "weather_forecast_dict = {\n",
    "    'monday' : 'sunny day',\n",
    "    'tuesday' : 'rainy day',\n",
    "    'wednesday' : 'windy dsay',\n",
    "    'thursday' : 'snowy day',\n",
    "    'friday' : 'foggy morning'\n",
    "}\n",
    "\n",
    "print(weather_forecast_dict['tuesday'])"
   ]
  },
  {
   "attachments": {},
   "cell_type": "markdown",
   "metadata": {},
   "source": [
    "### Exercise 2: Grocery Prices\n",
    "Create a dictionary to store the prices of various grocery items. Use item names as keys and prices as values. Calculate the total cost of a shopping list."
   ]
  },
  {
   "cell_type": "code",
   "execution_count": 61,
   "metadata": {},
   "outputs": [
    {
     "name": "stdout",
     "output_type": "stream",
     "text": [
      "Total Cost: 100\n"
     ]
    }
   ],
   "source": [
    "# create a dictionary named grocery_items\n",
    "# create grocery names as keys\n",
    "# and prices as values\n",
    "\n",
    "# calculate the total cost of a shipping list\n",
    "\n",
    "grocery_items_dict = { 'salt' : 10, 'black pepper' : 50, 'bread' : 40 }\n",
    "\n",
    "print('Total Cost: ' + str(grocery_items_dict['salt'] + grocery_items_dict['black pepper'] + grocery_items_dict['bread']))"
   ]
  },
  {
   "cell_type": "markdown",
   "metadata": {},
   "source": []
  }
 ],
 "metadata": {
  "kernelspec": {
   "display_name": "Python 3",
   "language": "python",
   "name": "python3"
  },
  "language_info": {
   "codemirror_mode": {
    "name": "ipython",
    "version": 3
   },
   "file_extension": ".py",
   "mimetype": "text/x-python",
   "name": "python",
   "nbconvert_exporter": "python",
   "pygments_lexer": "ipython3",
   "version": "3.11.4"
  },
  "orig_nbformat": 4
 },
 "nbformat": 4,
 "nbformat_minor": 2
}
