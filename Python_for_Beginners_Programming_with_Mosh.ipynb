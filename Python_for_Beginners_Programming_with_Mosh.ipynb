{
 "cells": [
  {
   "attachments": {},
   "cell_type": "markdown",
   "metadata": {},
   "source": [
    "# Python for Beginners - `Learn Python in 1 Hour` (NOTES)"
   ]
  },
  {
   "attachments": {},
   "cell_type": "markdown",
   "metadata": {},
   "source": [
    "### Your First Python Program\n",
    "- first program people write when learning a new programming language"
   ]
  },
  {
   "cell_type": "code",
   "execution_count": 1,
   "metadata": {},
   "outputs": [
    {
     "name": "stdout",
     "output_type": "stream",
     "text": [
      "Hello World\n"
     ]
    }
   ],
   "source": [
    "print(\"Hello World\") # can use single or double quotes"
   ]
  },
  {
   "attachments": {},
   "cell_type": "markdown",
   "metadata": {},
   "source": [
    "### Variables\n",
    "- a variable is a name that refers to a value stored in memory. Variables are used to store and manipulate data during the execution of a program. They allow you to assign values to names, making it easier to work with data and perform operations."
   ]
  },
  {
   "cell_type": "code",
   "execution_count": 5,
   "metadata": {},
   "outputs": [
    {
     "name": "stdout",
     "output_type": "stream",
     "text": [
      "True\n"
     ]
    }
   ],
   "source": [
    "price = 19.95 \n",
    "first_name = \"John\" # separate with underscore, this makes our code more readable\n",
    "is_online = True # boolean value (capital letter T if True or F if false)\n",
    "print(is_online)"
   ]
  },
  {
   "cell_type": "code",
   "execution_count": 3,
   "metadata": {},
   "outputs": [
    {
     "name": "stdout",
     "output_type": "stream",
     "text": [
      "30\n"
     ]
    }
   ],
   "source": [
    "age = 20 # variable\n",
    "age = 30 # executed from top to bottom\n",
    "\n",
    "print(age) # print the value"
   ]
  },
  {
   "cell_type": "code",
   "execution_count": null,
   "metadata": {},
   "outputs": [],
   "source": [
    "# EXERCISE\n",
    "\n",
    "# We check in a patient named John Smith.\n",
    "# He is 20 years old.\n",
    "# He is a new patient.\n",
    "\n",
    "name = \"John Smith\"\n",
    "age = 20\n",
    "is_new_patient = True"
   ]
  },
  {
   "attachments": {},
   "cell_type": "markdown",
   "metadata": {},
   "source": [
    "### Receiving Input\n",
    "- you can use the built-in input() function to receive input from the user via the keyboard. The input() function waits for the user to enter a line of text and returns that input as a string."
   ]
  },
  {
   "cell_type": "code",
   "execution_count": 7,
   "metadata": {},
   "outputs": [
    {
     "name": "stdout",
     "output_type": "stream",
     "text": [
      "Hello John\n"
     ]
    }
   ],
   "source": [
    "name = input(\"What is your name? \")\n",
    "print(\"Hello \" + name)"
   ]
  },
  {
   "attachments": {},
   "cell_type": "markdown",
   "metadata": {},
   "source": [
    "### Type Conversion\n",
    "- also known as type casting, is the process of changing the data type of a value from one type to another. "
   ]
  },
  {
   "cell_type": "code",
   "execution_count": null,
   "metadata": {},
   "outputs": [],
   "source": [
    "10 # numbers\n",
    "10.1 #float\n",
    "\"John\" # strings\n",
    "True # booleans"
   ]
  },
  {
   "cell_type": "code",
   "execution_count": null,
   "metadata": {},
   "outputs": [],
   "source": [
    "# int means integer\n",
    "# str means string\n",
    "\n",
    "birth_year = input(\"Enter your birth year: \") # input value then store it in birth_year variable\n",
    "print(age)"
   ]
  },
  {
   "cell_type": "code",
   "execution_count": null,
   "metadata": {},
   "outputs": [],
   "source": [
    "birth_year = input(\"Enter your birth year: \") # every input are string\n",
    "age = 2023 - int(birth_year) # convert string into integer (watch   mosh video 12:31)\n",
    "print(age)"
   ]
  },
  {
   "cell_type": "code",
   "execution_count": null,
   "metadata": {},
   "outputs": [],
   "source": [
    "# My modification\n",
    "\n",
    "# First input year and birth and store it in variables\n",
    "# Convert string into integers and then subtract them\n",
    "# then store the value in variable\n",
    "# print variable value\n",
    "\n",
    "present_year = input(\"Enter what year today: \")\n",
    "birth_year = input(\"Enter your birth year: \")\n",
    "age = int(present_year) - int(birth_year)\n",
    "print(age)"
   ]
  },
  {
   "cell_type": "code",
   "execution_count": null,
   "metadata": {},
   "outputs": [],
   "source": [
    "# built-in function converters\n",
    "\n",
    "10.1 # This is float\n",
    "\n",
    "int() # converting a value to a integer\n",
    "float() # converting a value to a floating\n",
    "bool() # converting a value to a blooean\n",
    "str() # converting a value to a string"
   ]
  },
  {
   "cell_type": "code",
   "execution_count": 12,
   "metadata": {},
   "outputs": [
    {
     "name": "stdout",
     "output_type": "stream",
     "text": [
      "2023\n"
     ]
    }
   ],
   "source": [
    "first = input(\"First: \")\n",
    "second = input(\"Second: \")\n",
    "sum = first + second # adding strings\n",
    "print(sum)"
   ]
  },
  {
   "cell_type": "code",
   "execution_count": 13,
   "metadata": {},
   "outputs": [
    {
     "name": "stdout",
     "output_type": "stream",
     "text": [
      "2\n"
     ]
    }
   ],
   "source": [
    "first = input(\"First: \")\n",
    "second = input(\"Second: \")\n",
    "sum = int(first) + int(second) # converts strings into integers\n",
    "print(sum)"
   ]
  },
  {
   "cell_type": "code",
   "execution_count": 17,
   "metadata": {},
   "outputs": [
    {
     "name": "stdout",
     "output_type": "stream",
     "text": [
      "sum: 2.3\n"
     ]
    }
   ],
   "source": [
    "first = input(\"First: \")\n",
    "second = input(\"Second: \")\n",
    "sum = float(first) + float(second)\n",
    "print(\"sum: \" + str(sum))"
   ]
  },
  {
   "cell_type": "code",
   "execution_count": null,
   "metadata": {},
   "outputs": [],
   "source": [
    "# type conversion is important in python and other programming languages\n",
    "# there are times you need to convert the type of variable to a different type\n",
    "\n",
    "first = float(input(\"First: \")) # pass that string to our float function\n",
    "second = float(input(\"Second: \"))\n",
    "sum = first + second\n",
    "print(\"sum: \" + str(sum))"
   ]
  },
  {
   "attachments": {},
   "cell_type": "markdown",
   "metadata": {},
   "source": [
    "### Strings\n",
    "- a string is a sequence of characters enclosed in single ('') or double (\"\") quotes. Strings are used to represent textual data. They can contain letters, digits, symbols, and whitespace."
   ]
  },
  {
   "cell_type": "code",
   "execution_count": null,
   "metadata": {},
   "outputs": [],
   "source": [
    "course = 'Python for beginners' # this string is an object\n",
    "#         0123456789...\n",
    "print(course.upper()) # convert it to upper case\n",
    "print(course.lower()) # convert it to lower case\n",
    "print(course.find('y')) #output the index of that character\n",
    "print(course.find('for'))\n",
    "\n",
    "print(course.replace('for', '4')) # replace 'for'\n",
    "print('Python' in course) # check if there is 'Python' in course variable."
   ]
  },
  {
   "attachments": {},
   "cell_type": "markdown",
   "metadata": {},
   "source": [
    "### Arithmetic Operators\n",
    "- Arithmetic operators in Python are used to perform basic arithmetic operations on numeric values."
   ]
  },
  {
   "cell_type": "code",
   "execution_count": null,
   "metadata": {},
   "outputs": [],
   "source": [
    "print(10 + 3) # addition\n",
    "print(10 * 3) # multiplication\n",
    "\n",
    "print(10 / 3) # division\n",
    "print(10 // 3) # division but output an whole number\n",
    "\n",
    "print(10 % 3) # modulus\n",
    "print(10 ** 3) # exponent operator (10 to the power of 3)"
   ]
  },
  {
   "cell_type": "code",
   "execution_count": null,
   "metadata": {},
   "outputs": [],
   "source": [
    "x = 10\n",
    "x = x + 3 # increment by 3\n",
    "print(x)\n"
   ]
  },
  {
   "cell_type": "code",
   "execution_count": null,
   "metadata": {},
   "outputs": [],
   "source": [
    "x = 10\n",
    "x += 3 # increment in short method\n",
    "print(x)"
   ]
  },
  {
   "cell_type": "code",
   "execution_count": null,
   "metadata": {},
   "outputs": [],
   "source": [
    "x = 10\n",
    "x -= 3 # decrement in short method\n",
    "print(x)"
   ]
  },
  {
   "cell_type": "code",
   "execution_count": null,
   "metadata": {},
   "outputs": [],
   "source": [
    "x = 10\n",
    "x *= 3 # multiply in short method\n",
    "print(x)"
   ]
  },
  {
   "attachments": {},
   "cell_type": "markdown",
   "metadata": {},
   "source": [
    "### Operator Precedence\n",
    "- determines the order in which different operators are evaluated in an expression. It ensures that expressions are evaluated correctly by following a specific hierarchy of operations. "
   ]
  },
  {
   "cell_type": "code",
   "execution_count": 42,
   "metadata": {},
   "outputs": [
    {
     "name": "stdout",
     "output_type": "stream",
     "text": [
      "16\n"
     ]
    }
   ],
   "source": [
    "# multiplication & division have a higher order\n",
    "\n",
    "x = 10 + 3 * 2 # multiplication first (3 * 2 = 6)\n",
    "print(x)"
   ]
  },
  {
   "cell_type": "code",
   "execution_count": 43,
   "metadata": {},
   "outputs": [
    {
     "name": "stdout",
     "output_type": "stream",
     "text": [
      "26\n"
     ]
    }
   ],
   "source": [
    "x = (10 + 3) * 2 # if you want 10 plus 3 to be evaluated first we can wrap it in parenthesis\n",
    "print(x)"
   ]
  },
  {
   "attachments": {},
   "cell_type": "markdown",
   "metadata": {},
   "source": [
    "### Comparison Operators\n",
    "- are used to compare two values and return a Boolean result (True or False) based on the comparison. These operators are often used in conditional statements and expressions to make decisions or perform different actions depending on the comparison's outcome. "
   ]
  },
  {
   "cell_type": "code",
   "execution_count": 49,
   "metadata": {},
   "outputs": [
    {
     "name": "stdout",
     "output_type": "stream",
     "text": [
      "True\n"
     ]
    }
   ],
   "source": [
    "a = 3 > 2 # greater than\n",
    "b = 3 < 2 # less than\n",
    "c = 3 >= 2 # greater than or equal to\n",
    "d = 3 <= 2 # less than or equal to\n",
    "e = 3 == 2 # equal to\n",
    "f = 3 != 2 # not equal to\n",
    "\n",
    "x = 3 > 2\n",
    "print(f)"
   ]
  },
  {
   "attachments": {},
   "cell_type": "markdown",
   "metadata": {},
   "source": [
    "### Logical Operators\n",
    "- are used to combine or manipulate Boolean values (True or False). They are often used in conditional statements and expressions to create more complex logic based on the truth values of multiple conditions."
   ]
  },
  {
   "cell_type": "code",
   "execution_count": 50,
   "metadata": {},
   "outputs": [
    {
     "name": "stdout",
     "output_type": "stream",
     "text": [
      "True\n"
     ]
    }
   ],
   "source": [
    "price = 25\n",
    "print(price > 10) # True"
   ]
  },
  {
   "cell_type": "code",
   "execution_count": 51,
   "metadata": {},
   "outputs": [
    {
     "name": "stdout",
     "output_type": "stream",
     "text": [
      "True\n"
     ]
    }
   ],
   "source": [
    "price = 25\n",
    "print(price > 10 and price < 30) # True if both of these are true"
   ]
  },
  {
   "cell_type": "code",
   "execution_count": 52,
   "metadata": {},
   "outputs": [
    {
     "name": "stdout",
     "output_type": "stream",
     "text": [
      "True\n"
     ]
    }
   ],
   "source": [
    "price = 5\n",
    "print(price > 10 or price < 30) # True if at least one of these boolean expressions returns true"
   ]
  },
  {
   "cell_type": "code",
   "execution_count": 53,
   "metadata": {},
   "outputs": [
    {
     "name": "stdout",
     "output_type": "stream",
     "text": [
      "True\n"
     ]
    }
   ],
   "source": [
    "price = 5\n",
    "print(not price > 10) # inverse false to true"
   ]
  },
  {
   "attachments": {},
   "cell_type": "markdown",
   "metadata": {},
   "source": [
    "### If Statements\n",
    "- used to perform conditional execution. It allows you to execute a block of code only if a certain condition is met (evaluates to True). "
   ]
  },
  {
   "cell_type": "code",
   "execution_count": 60,
   "metadata": {},
   "outputs": [
    {
     "name": "stdout",
     "output_type": "stream",
     "text": [
      "It's cold\n"
     ]
    }
   ],
   "source": [
    "temperature = 5\n",
    "\n",
    "if temperature > 30:\n",
    "    print(\"It`s a hot day\") # this block executed if the condition is true\n",
    "    print(\"Drink plenty of water\") # this block executed if the condition is true\n",
    "elif temperature > 20: # shortcut of else if\n",
    "    print(\"It's a nice day\")\n",
    "elif temperature > 10:\n",
    "    print(\"It's a bit cold\")\n",
    "else:\n",
    "    print(\"It's cold\")\n"
   ]
  },
  {
   "attachments": {},
   "cell_type": "markdown",
   "metadata": {},
   "source": [
    "### Exercise\n",
    "- to practice problems or tasks that are designed to help you improve your programming skills and gain hands-on experience with the language. These exercises provide opportunities to apply the concepts you've learned and solve real-world problems"
   ]
  },
  {
   "cell_type": "code",
   "execution_count": 41,
   "metadata": {},
   "outputs": [
    {
     "name": "stdout",
     "output_type": "stream",
     "text": [
      "Weight in Lbs: 167.55112\n"
     ]
    }
   ],
   "source": [
    "# Ask for the weight then input a number\n",
    "# Ask for the weight in either kilograms or pounds by inputing 'K' for kilograms or 'L' for pounds\n",
    "# if upper or lower case entered it dosen`t matter\n",
    "# if true convert weight\n",
    "\n",
    "weight = input(\"Weight: \") \n",
    "total_weight = float(weight) \n",
    "\n",
    "units = input(\"(K)g or (L)bs: \") \n",
    "if units == \"k\" or units == \"K\": \n",
    "    kg_to_lbs = str(total_weight * 2.20462) \n",
    "    print(\"Weight in Lbs: \" + kg_to_lbs) \n",
    "elif units == \"l\" or units == \"L\":\n",
    "    kg_to_lbs = str(total_weight / 2.20462)\n",
    "    print(\"Weight in Kg: \" + kg_to_lbs)\n",
    "else:\n",
    "    print(\"Enter valid weight\")\n"
   ]
  },
  {
   "attachments": {},
   "cell_type": "markdown",
   "metadata": {},
   "source": [
    "### vWhile Loops\n",
    "- allows you to repeatedly execute a block of code as long as a specified condition is True. The loop continues executing as long as the condition remains True."
   ]
  },
  {
   "cell_type": "code",
   "execution_count": null,
   "metadata": {},
   "outputs": [],
   "source": [
    "i = 1\n",
    "\n",
    "while i <= 1_000:\n",
    "    print(i)\n",
    "    i += 1"
   ]
  },
  {
   "cell_type": "code",
   "execution_count": null,
   "metadata": {},
   "outputs": [],
   "source": [
    "i = 1\n",
    "\n",
    "while i <= 10:\n",
    "    print(i * '*')\n",
    "    i += 1"
   ]
  },
  {
   "attachments": {},
   "cell_type": "markdown",
   "metadata": {},
   "source": [
    "### Lists\n",
    "- allows you to repeatedly execute a block of code as long as a specified condition is True. The loop continues executing as long as the condition remains True."
   ]
  },
  {
   "cell_type": "code",
   "execution_count": 52,
   "metadata": {},
   "outputs": [
    {
     "name": "stdout",
     "output_type": "stream",
     "text": [
      "['John', 'Lee', 'Jebson', 'Mac', 'Darius']\n",
      "John\n",
      "Darius\n",
      "Jebson\n",
      "['John', 'Code MNL', 'Jebson', 'Mac', 'Darius']\n",
      "['John', 'Code MNL', 'Jebson']\n"
     ]
    }
   ],
   "source": [
    "names = [\"John\", \"Lee\", \"Jebson\", \"Mac\", \"Darius\"]\n",
    "print(names)\n",
    "print(names[0])\n",
    "print(names[-1]) # Prints the last element\n",
    "print(names[-3]) # Prints reverse\n",
    "\n",
    "names[1] = 'Code MNL' # Set it to a new value\n",
    "print(names)\n",
    "\n",
    "print(names[0:3]) # Prints start index up to the end index but excluding the end index."
   ]
  },
  {
   "attachments": {},
   "cell_type": "markdown",
   "metadata": {},
   "source": [
    "### List Methods\n",
    "-  built-in functions that allow you to perform various operations on lists. These methods are associated with list objects and provide convenient ways to manipulate and interact with the elements within lists. List methods are powerful tools that help you add, remove, modify, and analyze list items."
   ]
  },
  {
   "cell_type": "code",
   "execution_count": 62,
   "metadata": {},
   "outputs": [
    {
     "name": "stdout",
     "output_type": "stream",
     "text": [
      "[1, 2, 69, 3, 5, 10]\n",
      "[]\n"
     ]
    }
   ],
   "source": [
    "# example one\n",
    "numbers = [1, 2, 3, 4, 5]\n",
    "numbers.append(10) # append method used to add new element\n",
    "numbers.insert(2, 69) # add 69 to the number two index\n",
    "numbers.remove(4) # removes value\n",
    "print(numbers)"
   ]
  },
  {
   "cell_type": "code",
   "execution_count": 63,
   "metadata": {},
   "outputs": [
    {
     "name": "stdout",
     "output_type": "stream",
     "text": [
      "[]\n"
     ]
    }
   ],
   "source": [
    "# example two\n",
    "num = [1, 2, 3, 4, 5]\n",
    "num.clear() # delete all in the list\n",
    "print(num)"
   ]
  },
  {
   "cell_type": "code",
   "execution_count": 65,
   "metadata": {},
   "outputs": [
    {
     "name": "stdout",
     "output_type": "stream",
     "text": [
      "True\n",
      "False\n"
     ]
    }
   ],
   "source": [
    "numbers = [1, 2, 3, 4, 5]\n",
    "print(1 in numbers) # check if 1 exist (output true)\n",
    "print(10 in numbers) # output false"
   ]
  },
  {
   "cell_type": "code",
   "execution_count": 66,
   "metadata": {},
   "outputs": [
    {
     "name": "stdout",
     "output_type": "stream",
     "text": [
      "5\n"
     ]
    }
   ],
   "source": [
    "numbers = [1, 2, 3, 4, 5]\n",
    "print(len(numbers)) # how many items youhave in the list"
   ]
  },
  {
   "attachments": {},
   "cell_type": "markdown",
   "metadata": {},
   "source": [
    "### For loops\n",
    "- is used to iterate over a sequence (such as a list, tuple, string, or range) and execute a block of code for each element in that sequence. The loop iterates over each item in the sequence and performs the specified operations. "
   ]
  },
  {
   "cell_type": "code",
   "execution_count": 67,
   "metadata": {},
   "outputs": [
    {
     "name": "stdout",
     "output_type": "stream",
     "text": [
      "1\n",
      "2\n",
      "3\n",
      "4\n",
      "5\n"
     ]
    }
   ],
   "source": [
    "numbers = [1, 2, 3, 4, 5]\n",
    "for item in numbers: # item is a loop variable\n",
    "    print(item)"
   ]
  },
  {
   "cell_type": "code",
   "execution_count": 69,
   "metadata": {},
   "outputs": [
    {
     "name": "stdout",
     "output_type": "stream",
     "text": [
      "1\n",
      "2\n",
      "3\n",
      "4\n",
      "5\n"
     ]
    }
   ],
   "source": [
    "# same output in while loop, but in long method\n",
    "numbers = [1, 2, 3, 4, 5]\n",
    "\n",
    "i = 0\n",
    "while i < len(numbers):\n",
    "    print(numbers[i])\n",
    "    i += 1"
   ]
  },
  {
   "attachments": {},
   "cell_type": "markdown",
   "metadata": {},
   "source": [
    "### The range() Function\n",
    "\n",
    "- In Python, the range() function is a built-in function that generates a sequence of numbers within a specified range. It's commonly used to create an iterable sequence of numbers that you can loop through in various situations, such as for loops."
   ]
  },
  {
   "cell_type": "code",
   "execution_count": 70,
   "metadata": {},
   "outputs": [
    {
     "name": "stdout",
     "output_type": "stream",
     "text": [
      "0\n",
      "1\n",
      "2\n",
      "3\n",
      "4\n"
     ]
    }
   ],
   "source": [
    "numbers = range(5) # total range of number\n",
    "for number in numbers:\n",
    "    print(number)"
   ]
  },
  {
   "cell_type": "code",
   "execution_count": 71,
   "metadata": {},
   "outputs": [
    {
     "name": "stdout",
     "output_type": "stream",
     "text": [
      "5\n",
      "6\n",
      "7\n",
      "8\n",
      "9\n"
     ]
    }
   ],
   "source": [
    "numbers = range(5, 10) # start from 5 then end to 10\n",
    "for number in numbers:\n",
    "    print(number)"
   ]
  },
  {
   "cell_type": "code",
   "execution_count": 74,
   "metadata": {},
   "outputs": [
    {
     "name": "stdout",
     "output_type": "stream",
     "text": [
      "5\n",
      "7\n",
      "9\n"
     ]
    }
   ],
   "source": [
    "numbers = range(5, 10, 2) # jump two(2) numbers at a time\n",
    "for number in numbers:\n",
    "    print(number)"
   ]
  },
  {
   "cell_type": "code",
   "execution_count": 75,
   "metadata": {},
   "outputs": [
    {
     "name": "stdout",
     "output_type": "stream",
     "text": [
      "0\n",
      "1\n",
      "2\n",
      "3\n",
      "4\n"
     ]
    }
   ],
   "source": [
    "for number in range(5): # we can call the range function directly here\n",
    "    print(number)"
   ]
  },
  {
   "attachments": {},
   "cell_type": "markdown",
   "metadata": {},
   "source": [
    "### Tupies\n",
    "\n",
    "- a tuple is an ordered, immutable collection of items. It's similar to a list, but unlike lists, tuples cannot be modified after creation. Tuples are created by placing comma-separated values inside parentheses ( )."
   ]
  },
  {
   "cell_type": "code",
   "execution_count": 76,
   "metadata": {},
   "outputs": [
    {
     "data": {
      "text/plain": [
       "2"
      ]
     },
     "execution_count": 76,
     "metadata": {},
     "output_type": "execute_result"
    }
   ],
   "source": [
    "numbers = (1, 2, 3, 3) # does not support item assignment\n",
    "numbers.count(3) # count how many 3s"
   ]
  }
 ],
 "metadata": {
  "kernelspec": {
   "display_name": "Python 3",
   "language": "python",
   "name": "python3"
  },
  "language_info": {
   "codemirror_mode": {
    "name": "ipython",
    "version": 3
   },
   "file_extension": ".py",
   "mimetype": "text/x-python",
   "name": "python",
   "nbconvert_exporter": "python",
   "pygments_lexer": "ipython3",
   "version": "3.11.4"
  },
  "orig_nbformat": 4
 },
 "nbformat": 4,
 "nbformat_minor": 2
}
