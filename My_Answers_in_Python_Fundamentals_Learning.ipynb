{
 "cells": [
  {
   "attachments": {},
   "cell_type": "markdown",
   "metadata": {},
   "source": [
    "# Python Fundamentals Exercises and My Answers"
   ]
  },
  {
   "attachments": {},
   "cell_type": "markdown",
   "metadata": {},
   "source": [
    "## Exercise 1\n",
    "Declare three variables:\n",
    "1. `book_title` that stores the title of your favorite book as a string.\n",
    "2. `pages` that stores the number of pages in that book as an integer.\n",
    "3. `rating` that stores your rating for the book out of 5 as a float.\n",
    "Print out the values of these variables."
   ]
  },
  {
   "cell_type": "code",
   "execution_count": 2,
   "metadata": {},
   "outputs": [
    {
     "name": "stdout",
     "output_type": "stream",
     "text": [
      "Book Title: The Holy Bible, Pages: 1500, rating: 4.9\n"
     ]
    }
   ],
   "source": [
    "book_title = \"The Holy Bible\"\n",
    "pages = 1_500 # _underscore for easy reading\n",
    "rating = 4.9\n",
    "print(f\"Book Title: {book_title}, Pages: {pages}, rating: {rating}\")"
   ]
  },
  {
   "attachments": {},
   "cell_type": "markdown",
   "metadata": {},
   "source": [
    "## Exercise 2\n",
    "Write a conditional statement that checks the value of a variable `score`. If the score is 90 or above, print \"A\". If the score is between 80 and 89, print \"B\". If the score is between 70 and 79, print \"C\". If the score is between 60 and 69, print \"D\". If the score is below 60, print \"F\"."
   ]
  },
  {
   "cell_type": "code",
   "execution_count": 3,
   "metadata": {},
   "outputs": [
    {
     "name": "stdout",
     "output_type": "stream",
     "text": [
      "C\n"
     ]
    }
   ],
   "source": [
    "score = 75\n",
    "\n",
    "if score >= 90:\n",
    "    print('A')\n",
    "elif score >= 80:\n",
    "    if score <= 89:\n",
    "        print('B')\n",
    "elif score >= 70:\n",
    "    if score <= 79:\n",
    "        print('C')\n",
    "elif score >= 60:\n",
    "    if score <= 69:\n",
    "        print('D')\n",
    "else:\n",
    "    print('F')"
   ]
  },
  {
   "cell_type": "code",
   "execution_count": 4,
   "metadata": {},
   "outputs": [
    {
     "name": "stdout",
     "output_type": "stream",
     "text": [
      "F\n"
     ]
    }
   ],
   "source": [
    "score = 59\n",
    "\n",
    "if score >= 90:\n",
    "    print('A')\n",
    "elif score >= 80:\n",
    "    print('B')\n",
    "elif score >= 70:\n",
    "    print('C')\n",
    "elif score >= 60:\n",
    "    print('D')\n",
    "else:\n",
    "    print('F')"
   ]
  },
  {
   "cell_type": "code",
   "execution_count": 11,
   "metadata": {},
   "outputs": [
    {
     "data": {
      "text/plain": [
       "'A'"
      ]
     },
     "execution_count": 11,
     "metadata": {},
     "output_type": "execute_result"
    }
   ],
   "source": [
    "# using nested ternary operators\n",
    "# not recommended for very complex logic; in such cases\n",
    "# using traditional if-elif-else statements is usually more readable\n",
    "\n",
    "score = 97\n",
    "\n",
    "\n",
    "'A' if score >= 90 else ('B' if score >= 80 else ('C' if score >= 70 else ('D' if score >= 60 else 'F')))"
   ]
  },
  {
   "attachments": {},
   "cell_type": "markdown",
   "metadata": {},
   "source": [
    "### Ternary Operator Example:\n",
    "\n",
    "\n",
    "* Long Method\n",
    "```python\n",
    "age = 18\n",
    "\n",
    "if age >= 18:\n",
    "  adult = True\n",
    "else:\n",
    "  adult = False\n",
    "\n",
    "if adult:\n",
    "  print(\"You are an adult!\")\n",
    "else:\n",
    "  print(\"You are not an adult!\")\n",
    "```\n",
    "\n",
    "* Short Method (Ternary)\n",
    "```python\n",
    "age = 18\n",
    "\n",
    "adult = True if age >= 18 else False\n",
    "\n",
    "print(\"You are an adult!\" if adult else \"You are not an adult!\")\n",
    "```"
   ]
  },
  {
   "attachments": {},
   "cell_type": "markdown",
   "metadata": {},
   "source": [
    "## Exercise 3\n",
    "Write a `for` loop that prints the square of numbers from 1 to 10."
   ]
  },
  {
   "cell_type": "code",
   "execution_count": 3,
   "metadata": {},
   "outputs": [
    {
     "name": "stdout",
     "output_type": "stream",
     "text": [
      "1\n",
      "4\n",
      "9\n",
      "16\n",
      "25\n",
      "36\n",
      "49\n",
      "64\n",
      "81\n",
      "100\n"
     ]
    }
   ],
   "source": [
    "for num in range(1, 11):\n",
    "    print(num ** 2)"
   ]
  },
  {
   "attachments": {},
   "cell_type": "markdown",
   "metadata": {},
   "source": [
    "### Notes\n",
    "* The <b>square of a number</b> is the result of multiplying that number by itself. In other words, it's the value you get when you raise a number to the power of 2. \n",
    "\n",
    "*  The ** - This operator allows you to easily calculate the result of multiplying a number by itself multiple times.\n",
    "```python\n",
    "Example:\n",
    "\n",
    "1. If you have 2 ** 3, it means 2 raised to the power of 3.\n",
    "\n",
    "This is equivalent to 2 * 2 * 2, which is 8.\n",
    "\n",
    "2. If you have 3 ** 4, it means 3 raised to the power of 4.\n",
    "\n",
    "This is equivalent to 3 * 3 * 3 * 3, which is 81.\n",
    "\n",
    "3. If you have 5 ** 2, it means 5 raised to the power of 2.\n",
    "\n",
    "This is equivalent to 5 * 5, which is 25.\n",
    "```"
   ]
  }
 ],
 "metadata": {
  "kernelspec": {
   "display_name": "Python 3",
   "language": "python",
   "name": "python3"
  },
  "language_info": {
   "codemirror_mode": {
    "name": "ipython",
    "version": 3
   },
   "file_extension": ".py",
   "mimetype": "text/x-python",
   "name": "python",
   "nbconvert_exporter": "python",
   "pygments_lexer": "ipython3",
   "version": "3.11.4"
  },
  "orig_nbformat": 4
 },
 "nbformat": 4,
 "nbformat_minor": 2
}
